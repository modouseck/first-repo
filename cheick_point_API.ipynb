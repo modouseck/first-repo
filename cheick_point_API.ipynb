{
  "nbformat": 4,
  "nbformat_minor": 0,
  "metadata": {
    "colab": {
      "provenance": [],
      "authorship_tag": "ABX9TyPncgVxeNU0BVG0iYomqoB/",
      "include_colab_link": true
    },
    "kernelspec": {
      "name": "python3",
      "display_name": "Python 3"
    },
    "language_info": {
      "name": "python"
    }
  },
  "cells": [
    {
      "cell_type": "markdown",
      "metadata": {
        "id": "view-in-github",
        "colab_type": "text"
      },
      "source": [
        "<a href=\"https://colab.research.google.com/github/modouseck/first-repo/blob/main/cheick_point_API.ipynb\" target=\"_parent\"><img src=\"https://colab.research.google.com/assets/colab-badge.svg\" alt=\"Open In Colab\"/></a>"
      ]
    },
    {
      "cell_type": "code",
      "execution_count": 5,
      "metadata": {
        "colab": {
          "base_uri": "https://localhost:8080/"
        },
        "id": "V_1C-mrwkqOQ",
        "outputId": "8f1eef87-0d45-4f1e-da8f-4d26919121db"
      },
      "outputs": [
        {
          "output_type": "stream",
          "name": "stdout",
          "text": [
            "Titre : Galaxy Lenses Galaxy from Webb\n",
            "Description : Is this one galaxy or two? Although it looks like one, the answer is two. One path to this happening is when a small galaxy collides with a larger galaxy and ends up in the center. But in the featured image, something more rare is going on. Here, the central light-colored elliptical galaxy is much closer than the blue and red-colored spiral galaxy that surrounds it. This can happen when near and far galaxies are exactly aligned, causing the gravity of the near galaxy to pull the light from the far galaxy around it in an effect called gravitational lensing. The featured galaxy double was taken by the Webb Space Telescope and shows a complete Einstein ring, with great detail visible for both galaxies.  Galaxy lenses like this can reveal new information about the mass distribution of the foreground lens and the light distribution of the background source.\n",
            "URL de l'image : https://apod.nasa.gov/apod/image/2504/GalaxiesLens_Webb_960.jpg\n",
            "         ID          Nom  Diamètre min (km)  Magnitude  Vitesse (km/s)\n",
            "0   3440320  (2008 WL60)           0.692716      17.92        8.347502\n",
            "1   3529587  (2010 LJ61)           0.171615      20.95        8.386031\n",
            "2   3781905  (2017 SK17)           0.146742      21.29       22.433338\n",
            "3   3802455   (2018 GP2)           0.022108      25.40       17.799237\n",
            "4  54129169  (2021 CY10)           0.102933      22.06       13.173951\n",
            "Fichier CSV créé avec succès !\n"
          ]
        }
      ],
      "source": [
        "import requests\n",
        "import pandas as pd\n",
        "import matplotlib.pyplot as plt\n",
        "from PIL import Image\n",
        "from io import BytesIO\n",
        "\n",
        "# Remplace ceci par ta vraie clé API\n",
        "api_key = \"7QOVOiO6tsXTiTUO8dEKdLL8DcMbgFuAiH9Sm4i8\"\n",
        "# Endpoint de l’API APOD\n",
        "url_apod = \"https://api.nasa.gov/planetary/apod\"\n",
        "\n",
        "params = {\n",
        "    \"api_key\": api_key\n",
        "}\n",
        "\n",
        "response = requests.get(url_apod, params=params)\n",
        "data = response.json()\n",
        "\n",
        "# Afficher les infos\n",
        "print(\"Titre :\", data['title'])\n",
        "print(\"Description :\", data['explanation'])\n",
        "print(\"URL de l'image :\", data['url'])\n",
        "\n",
        "# Afficher l'image\n",
        "image_response = requests.get(data['url'])\n",
        "img = Image.open(BytesIO(image_response.content))\n",
        "img.show()\n",
        "url_neo = \"https://api.nasa.gov/neo/rest/v1/feed\"\n",
        "\n",
        "params = {\n",
        "    \"start_date\": \"2024-04-01\",  # Choisis une date récente\n",
        "    \"end_date\": \"2024-04-01\",\n",
        "    \"api_key\": api_key\n",
        "}\n",
        "\n",
        "response = requests.get(url_neo, params=params)\n",
        "data = response.json()\n",
        "\n",
        "# Affichage brut pour voir la structure\n",
        "# print(data)\n",
        "neo_data = data['near_earth_objects']['2024-04-01']  # Mets ta vraie date ici\n",
        "\n",
        "# Préparer les données\n",
        "asteroids = []\n",
        "\n",
        "for obj in neo_data:\n",
        "    asteroid_id = obj['id']\n",
        "    name = obj['name']\n",
        "    diameter_min_km = obj['estimated_diameter']['kilometers']['estimated_diameter_min']\n",
        "    magnitude = obj['absolute_magnitude_h']\n",
        "    speed = obj['close_approach_data'][0]['relative_velocity']['kilometers_per_second']\n",
        "\n",
        "    asteroids.append({\n",
        "        \"ID\": asteroid_id,\n",
        "        \"Nom\": name,\n",
        "        \"Diamètre min (km)\": diameter_min_km,\n",
        "        \"Magnitude\": magnitude,\n",
        "        \"Vitesse (km/s)\": float(speed)\n",
        "    })\n",
        "\n",
        "# Création du DataFrame\n",
        "df = pd.DataFrame(asteroids)\n",
        "print(df.head())\n",
        "df.to_csv(\"asteroides_nasa.csv\", index=False)\n",
        "print(\"Fichier CSV créé avec succès !\")\n"
      ]
    }
  ]
}