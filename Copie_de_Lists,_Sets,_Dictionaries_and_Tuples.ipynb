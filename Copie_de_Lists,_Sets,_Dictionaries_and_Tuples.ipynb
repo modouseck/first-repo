{
  "cells": [
    {
      "cell_type": "markdown",
      "metadata": {
        "id": "view-in-github",
        "colab_type": "text"
      },
      "source": [
        "<a href=\"https://colab.research.google.com/github/modouseck/first-repo/blob/main/Copie_de_Lists%2C_Sets%2C_Dictionaries_and_Tuples.ipynb\" target=\"_parent\"><img src=\"https://colab.research.google.com/assets/colab-badge.svg\" alt=\"Open In Colab\"/></a>"
      ]
    },
    {
      "cell_type": "markdown",
      "id": "f39d4d86",
      "metadata": {
        "id": "f39d4d86"
      },
      "source": [
        "### Lists :"
      ]
    },
    {
      "cell_type": "markdown",
      "id": "9b9b24ac",
      "metadata": {
        "id": "9b9b24ac"
      },
      "source": [
        " mutable data structure, changeable, ordered sequence of elements inside square brackets[ ]\n"
      ]
    },
    {
      "cell_type": "code",
      "execution_count": null,
      "id": "41e42161",
      "metadata": {
        "id": "41e42161",
        "outputId": "74849218-0ce7-420f-8580-8004f18bce23"
      },
      "outputs": [
        {
          "data": {
            "text/plain": [
              "list"
            ]
          },
          "execution_count": 1,
          "metadata": {},
          "output_type": "execute_result"
        }
      ],
      "source": [
        "type ([])"
      ]
    },
    {
      "cell_type": "code",
      "execution_count": null,
      "id": "994d187c",
      "metadata": {
        "id": "994d187c",
        "outputId": "17f5e4ff-f9a0-4794-ad2a-27399b1525f1"
      },
      "outputs": [
        {
          "data": {
            "text/plain": [
              "list"
            ]
          },
          "execution_count": 2,
          "metadata": {},
          "output_type": "execute_result"
        }
      ],
      "source": [
        "lst = list()  #creates empty list\n",
        "type(lst)"
      ]
    },
    {
      "cell_type": "code",
      "execution_count": null,
      "id": "b7b867c6",
      "metadata": {
        "id": "b7b867c6",
        "outputId": "67a014ed-89a8-4846-cede-b199c92ea378"
      },
      "outputs": [
        {
          "name": "stdout",
          "output_type": "stream",
          "text": [
            "[10, 'Data', 20, True, 15.6]\n",
            "<class 'list'>\n"
          ]
        }
      ],
      "source": [
        "lst_example = [10,\"Data\",20, True , 15.6]\n",
        "print(lst_example)\n",
        "print(type(lst_example))"
      ]
    },
    {
      "cell_type": "code",
      "execution_count": null,
      "id": "9a41de9c",
      "metadata": {
        "id": "9a41de9c",
        "outputId": "226e428d-3db7-400c-d375-28b0e71faf37"
      },
      "outputs": [
        {
          "name": "stdout",
          "output_type": "stream",
          "text": [
            "[10, 20, 30, 'A', 22.5]\n",
            "30\n"
          ]
        }
      ],
      "source": [
        "l = [10, 20, 30, \"A\", 22.5]\n",
        "#    0    1   2   3    4\n",
        "#    -5  -4  -3  -2   -1\n",
        "print(l)\n",
        "print(l[2])"
      ]
    },
    {
      "cell_type": "code",
      "execution_count": null,
      "id": "9ade308b",
      "metadata": {
        "id": "9ade308b",
        "outputId": "a51db209-68a0-44c9-9390-8db60587cb5f"
      },
      "outputs": [
        {
          "data": {
            "text/plain": [
              "'A'"
            ]
          },
          "execution_count": 5,
          "metadata": {},
          "output_type": "execute_result"
        }
      ],
      "source": [
        "l[-2]"
      ]
    },
    {
      "cell_type": "code",
      "execution_count": null,
      "id": "1d397319",
      "metadata": {
        "id": "1d397319",
        "outputId": "536b2ed0-8fcc-4beb-8dc2-d45a6e42fa26"
      },
      "outputs": [
        {
          "name": "stdout",
          "output_type": "stream",
          "text": [
            "A\n"
          ]
        }
      ],
      "source": [
        "print(l[3])"
      ]
    },
    {
      "cell_type": "code",
      "execution_count": null,
      "id": "d6cfe76d",
      "metadata": {
        "id": "d6cfe76d",
        "outputId": "8f991a17-2aa7-4a79-f805-777a08a76665"
      },
      "outputs": [
        {
          "name": "stdout",
          "output_type": "stream",
          "text": [
            "[10, 'C', 30, 'A', 22.5]\n"
          ]
        }
      ],
      "source": [
        "l[1] = \"C\"\n",
        "print(l)   # list is mutable object"
      ]
    },
    {
      "cell_type": "code",
      "execution_count": null,
      "id": "30a667b1",
      "metadata": {
        "scrolled": true,
        "id": "30a667b1",
        "outputId": "cc6ace16-cc10-49e7-cffa-702d3257effc"
      },
      "outputs": [
        {
          "ename": "IndexError",
          "evalue": "list assignment index out of range",
          "output_type": "error",
          "traceback": [
            "\u001b[1;31m---------------------------------------------------------------------------\u001b[0m",
            "\u001b[1;31mIndexError\u001b[0m                                Traceback (most recent call last)",
            "Cell \u001b[1;32mIn[8], line 1\u001b[0m\n\u001b[1;32m----> 1\u001b[0m l[\u001b[38;5;241m6\u001b[39m] \u001b[38;5;241m=\u001b[39m \u001b[38;5;241m400\u001b[39m\n",
            "\u001b[1;31mIndexError\u001b[0m: list assignment index out of range"
          ]
        }
      ],
      "source": [
        "l[6] = 400  #out of range"
      ]
    },
    {
      "cell_type": "markdown",
      "id": "67e3efe4",
      "metadata": {
        "id": "67e3efe4"
      },
      "source": [
        "### List Functions"
      ]
    },
    {
      "cell_type": "code",
      "execution_count": null,
      "id": "7f32063e",
      "metadata": {
        "id": "7f32063e"
      },
      "outputs": [],
      "source": [
        "# len()"
      ]
    },
    {
      "cell_type": "code",
      "execution_count": null,
      "id": "baecdd47",
      "metadata": {
        "id": "baecdd47",
        "outputId": "fbabb7e6-a774-4cd6-ec87-90036331bd96"
      },
      "outputs": [
        {
          "name": "stdout",
          "output_type": "stream",
          "text": [
            "5\n"
          ]
        }
      ],
      "source": [
        "my_list = [10,40,30,60,50]\n",
        "print(len(my_list))"
      ]
    },
    {
      "cell_type": "code",
      "execution_count": null,
      "id": "9c98f29e",
      "metadata": {
        "id": "9c98f29e"
      },
      "outputs": [],
      "source": [
        "# sum()"
      ]
    },
    {
      "cell_type": "code",
      "execution_count": null,
      "id": "3e73197a",
      "metadata": {
        "id": "3e73197a",
        "outputId": "3afa1629-7549-4afb-aaa0-9ea6a8f9ea80"
      },
      "outputs": [
        {
          "name": "stdout",
          "output_type": "stream",
          "text": [
            "190\n"
          ]
        }
      ],
      "source": [
        "my_list = [10,40,30,60,50]\n",
        "print(sum(my_list))"
      ]
    },
    {
      "cell_type": "code",
      "execution_count": null,
      "id": "d576a6f9",
      "metadata": {
        "id": "d576a6f9"
      },
      "outputs": [],
      "source": [
        "# max()"
      ]
    },
    {
      "cell_type": "code",
      "execution_count": null,
      "id": "13e6c183",
      "metadata": {
        "id": "13e6c183",
        "outputId": "8c9ad412-39a7-4867-87cf-0bc0be51470d"
      },
      "outputs": [
        {
          "data": {
            "text/plain": [
              "90"
            ]
          },
          "execution_count": 14,
          "metadata": {},
          "output_type": "execute_result"
        }
      ],
      "source": [
        "list1 = [90,80,10,60,50,20]\n",
        "max(list1)"
      ]
    },
    {
      "cell_type": "code",
      "execution_count": null,
      "id": "9116d39c",
      "metadata": {
        "id": "9116d39c"
      },
      "outputs": [],
      "source": [
        "#min()"
      ]
    },
    {
      "cell_type": "code",
      "execution_count": null,
      "id": "03963b89",
      "metadata": {
        "id": "03963b89",
        "outputId": "4f61a72a-10d4-48e7-b6e1-989d38b84b0c"
      },
      "outputs": [
        {
          "data": {
            "text/plain": [
              "10"
            ]
          },
          "execution_count": 16,
          "metadata": {},
          "output_type": "execute_result"
        }
      ],
      "source": [
        "list2 = [90,80,10,60,50,20]\n",
        "min(list2)"
      ]
    },
    {
      "cell_type": "code",
      "execution_count": null,
      "id": "14073a8c",
      "metadata": {
        "id": "14073a8c",
        "outputId": "e25bbf08-e5ad-4da6-d06f-7131757d23ad"
      },
      "outputs": [
        {
          "name": "stdout",
          "output_type": "stream",
          "text": [
            "A\n"
          ]
        }
      ],
      "source": [
        "my_list = [\"A\",\"B\",\"C\",\"D\"]\n",
        "print(min(my_list))     #based on ASCII"
      ]
    },
    {
      "cell_type": "code",
      "execution_count": null,
      "id": "3eb3d243",
      "metadata": {
        "id": "3eb3d243"
      },
      "outputs": [],
      "source": [
        "# sorted()"
      ]
    },
    {
      "cell_type": "code",
      "execution_count": null,
      "id": "40ebdcf1",
      "metadata": {
        "id": "40ebdcf1",
        "outputId": "6396f9b8-fa36-4437-97f0-a6167ff21cbb"
      },
      "outputs": [
        {
          "name": "stdout",
          "output_type": "stream",
          "text": [
            "['B', 'C', 'D', 'D']\n"
          ]
        }
      ],
      "source": [
        "list3 = [\"D\",\"B\",\"C\",\"D\"]\n",
        "print(sorted(list3))"
      ]
    },
    {
      "cell_type": "code",
      "execution_count": null,
      "id": "8283e12c",
      "metadata": {
        "id": "8283e12c",
        "outputId": "60d8d92d-2855-4eb0-ae0b-04e4f8b06d6f"
      },
      "outputs": [
        {
          "ename": "TypeError",
          "evalue": "'<' not supported between instances of 'str' and 'int'",
          "output_type": "error",
          "traceback": [
            "\u001b[1;31m---------------------------------------------------------------------------\u001b[0m",
            "\u001b[1;31mTypeError\u001b[0m                                 Traceback (most recent call last)",
            "Cell \u001b[1;32mIn[20], line 2\u001b[0m\n\u001b[0;32m      1\u001b[0m list4 \u001b[38;5;241m=\u001b[39m [\u001b[38;5;241m100\u001b[39m,\u001b[38;5;124m\"\u001b[39m\u001b[38;5;124mB\u001b[39m\u001b[38;5;124m\"\u001b[39m,\u001b[38;5;124m\"\u001b[39m\u001b[38;5;124mC\u001b[39m\u001b[38;5;124m\"\u001b[39m,\u001b[38;5;124m\"\u001b[39m\u001b[38;5;124mD\u001b[39m\u001b[38;5;124m\"\u001b[39m]\n\u001b[1;32m----> 2\u001b[0m \u001b[38;5;28mprint\u001b[39m(\u001b[38;5;28;43msorted\u001b[39;49m\u001b[43m(\u001b[49m\u001b[43mlist4\u001b[49m\u001b[43m)\u001b[49m)\n",
            "\u001b[1;31mTypeError\u001b[0m: '<' not supported between instances of 'str' and 'int'"
          ]
        }
      ],
      "source": [
        "list4 = [100,\"B\",\"C\",\"D\"]\n",
        "print(sorted(list4))\n"
      ]
    },
    {
      "cell_type": "code",
      "execution_count": null,
      "id": "ea4dc2eb",
      "metadata": {
        "id": "ea4dc2eb",
        "outputId": "2b3b06e5-dae5-4a1e-ba07-6359e9f1d075"
      },
      "outputs": [
        {
          "name": "stdout",
          "output_type": "stream",
          "text": [
            "[60, 50, 30, 20, 10]\n"
          ]
        }
      ],
      "source": [
        "list4 = [10,20,30,60,50]\n",
        "print(sorted(list4, reverse=True))  # desc order"
      ]
    },
    {
      "cell_type": "code",
      "execution_count": null,
      "id": "5fdc427c",
      "metadata": {
        "id": "5fdc427c"
      },
      "outputs": [],
      "source": [
        "# list()"
      ]
    },
    {
      "cell_type": "code",
      "execution_count": null,
      "id": "db9c4e3f",
      "metadata": {
        "id": "db9c4e3f",
        "outputId": "755d7dd9-2f10-4623-ee13-c87bd0eb4a4a"
      },
      "outputs": [
        {
          "name": "stdout",
          "output_type": "stream",
          "text": [
            "[1, 2, 3, 4]\n"
          ]
        }
      ],
      "source": [
        "t = (1,2,3,4)\n",
        "print(list(t))"
      ]
    },
    {
      "cell_type": "code",
      "execution_count": null,
      "id": "97426716",
      "metadata": {
        "id": "97426716",
        "outputId": "0bfc6e91-328b-473c-9bf9-eb3c1364194d"
      },
      "outputs": [
        {
          "name": "stdout",
          "output_type": "stream",
          "text": [
            "['D', 'a', 't', 'a', 'S', 'c', 'i', 'e', 'n', 'c', 'e']\n"
          ]
        }
      ],
      "source": [
        "print(list(\"DataScience\"))"
      ]
    },
    {
      "cell_type": "markdown",
      "id": "00985002",
      "metadata": {
        "id": "00985002"
      },
      "source": [
        "### List Slicing or Comprehensions"
      ]
    },
    {
      "cell_type": "code",
      "execution_count": null,
      "id": "4281748d",
      "metadata": {
        "id": "4281748d"
      },
      "outputs": [],
      "source": [
        "# l[start : end]"
      ]
    },
    {
      "cell_type": "code",
      "execution_count": null,
      "id": "c2872ebf",
      "metadata": {
        "id": "c2872ebf",
        "outputId": "fe020c92-288f-437f-da74-b77be752cccd"
      },
      "outputs": [
        {
          "name": "stdout",
          "output_type": "stream",
          "text": [
            "[2, 3, 4, 5, 6]\n"
          ]
        }
      ],
      "source": [
        "list5 = [0,1,2,3,4,5,6,7,8,9]\n",
        "print(list5[2:7])"
      ]
    },
    {
      "cell_type": "code",
      "execution_count": null,
      "id": "15229056",
      "metadata": {
        "id": "15229056",
        "outputId": "2e810a96-9812-4f2b-ea3d-33143411076b"
      },
      "outputs": [
        {
          "data": {
            "text/plain": [
              "[0, 1, 2, 3, 4, 5, 6, 7, 8, 9]"
            ]
          },
          "execution_count": 27,
          "metadata": {},
          "output_type": "execute_result"
        }
      ],
      "source": [
        "list5[:]  # start to end"
      ]
    },
    {
      "cell_type": "code",
      "execution_count": null,
      "id": "6927865a",
      "metadata": {
        "id": "6927865a",
        "outputId": "bd32d67e-59c6-44f2-9021-cf819e065646"
      },
      "outputs": [
        {
          "data": {
            "text/plain": [
              "[2, 3, 4, 5, 6, 7, 8, 9]"
            ]
          },
          "execution_count": 28,
          "metadata": {},
          "output_type": "execute_result"
        }
      ],
      "source": [
        "list5 [2:] # from 2nd index to end"
      ]
    },
    {
      "cell_type": "code",
      "execution_count": null,
      "id": "fe3faee4",
      "metadata": {
        "id": "fe3faee4",
        "outputId": "dd0452dd-3700-4092-d39d-be3d7d3331b2"
      },
      "outputs": [
        {
          "data": {
            "text/plain": [
              "[0, 1, 2]"
            ]
          },
          "execution_count": 29,
          "metadata": {},
          "output_type": "execute_result"
        }
      ],
      "source": [
        "list5 [ :3]  #start to 3rd index"
      ]
    },
    {
      "cell_type": "code",
      "execution_count": null,
      "id": "7116a981",
      "metadata": {
        "id": "7116a981"
      },
      "outputs": [],
      "source": [
        "# l[start:end:steps]"
      ]
    },
    {
      "cell_type": "code",
      "execution_count": null,
      "id": "0d4fb18d",
      "metadata": {
        "id": "0d4fb18d",
        "outputId": "b319d975-5b53-4af6-fb19-9297afd8a2eb"
      },
      "outputs": [
        {
          "data": {
            "text/plain": [
              "[0, 2, 4, 6, 8]"
            ]
          },
          "execution_count": 31,
          "metadata": {},
          "output_type": "execute_result"
        }
      ],
      "source": [
        "list5[::2]"
      ]
    },
    {
      "cell_type": "code",
      "execution_count": null,
      "id": "1eb964bd",
      "metadata": {
        "id": "1eb964bd",
        "outputId": "e9c72f81-5d91-4743-e02d-63ad6dd7e237"
      },
      "outputs": [
        {
          "name": "stdout",
          "output_type": "stream",
          "text": [
            "[29, 100, 102]\n"
          ]
        }
      ],
      "source": [
        "#   -10 -9 -8 -7 -6 -5 -4  -3  -2  -1\n",
        "l = [11,22,33,44,55,76,29,100,102,300]\n",
        "#    0  1  2  3  4  5  6   7   8  9\n",
        "\n",
        "print(l[-4:-1])"
      ]
    },
    {
      "cell_type": "code",
      "execution_count": null,
      "id": "2fadcabc",
      "metadata": {
        "id": "2fadcabc",
        "outputId": "3be79620-c91a-489c-a747-e5df0fe83209"
      },
      "outputs": [
        {
          "name": "stdout",
          "output_type": "stream",
          "text": [
            "[300, 102, 100, 29, 76, 55, 44, 33, 22, 11]\n"
          ]
        }
      ],
      "source": [
        "print(l[::-1])  # reverse technique"
      ]
    },
    {
      "cell_type": "code",
      "execution_count": null,
      "id": "15ef8bed",
      "metadata": {
        "id": "15ef8bed",
        "outputId": "d74ae6bc-510c-496e-94ff-77b771693129"
      },
      "outputs": [
        {
          "name": "stdout",
          "output_type": "stream",
          "text": [
            "[11, 22, 33, 44, 55, 76, 29, 100, 102, 300]\n"
          ]
        }
      ],
      "source": [
        "print(l[::1])"
      ]
    },
    {
      "cell_type": "code",
      "execution_count": null,
      "id": "fc6b3994",
      "metadata": {
        "id": "fc6b3994",
        "outputId": "76f60326-fa0e-42b6-9901-6b024733ca3e"
      },
      "outputs": [
        {
          "ename": "IndexError",
          "evalue": "list index out of range",
          "output_type": "error",
          "traceback": [
            "\u001b[1;31m---------------------------------------------------------------------------\u001b[0m",
            "\u001b[1;31mIndexError\u001b[0m                                Traceback (most recent call last)",
            "Cell \u001b[1;32mIn[35], line 5\u001b[0m\n\u001b[0;32m      2\u001b[0m l \u001b[38;5;241m=\u001b[39m [\u001b[38;5;241m11\u001b[39m,\u001b[38;5;241m22\u001b[39m,\u001b[38;5;241m33\u001b[39m,\u001b[38;5;241m44\u001b[39m,\u001b[38;5;241m55\u001b[39m,\u001b[38;5;241m76\u001b[39m,\u001b[38;5;241m29\u001b[39m,\u001b[38;5;241m100\u001b[39m,\u001b[38;5;241m102\u001b[39m,\u001b[38;5;241m300\u001b[39m]\n\u001b[0;32m      3\u001b[0m \u001b[38;5;66;03m#    0  1  2  3  4  5  6   7   8  9\u001b[39;00m\n\u001b[1;32m----> 5\u001b[0m \u001b[38;5;28mprint\u001b[39m(\u001b[43ml\u001b[49m\u001b[43m[\u001b[49m\u001b[38;5;241;43m15\u001b[39;49m\u001b[43m]\u001b[49m)\n",
            "\u001b[1;31mIndexError\u001b[0m: list index out of range"
          ]
        }
      ],
      "source": [
        "#   -10 -9 -8 -7 -6 -5 -4  -3  -2  -1\n",
        "l = [11,22,33,44,55,76,29,100,102,300]\n",
        "#    0  1  2  3  4  5  6   7   8  9\n",
        "\n",
        "print(l[15])"
      ]
    },
    {
      "cell_type": "code",
      "execution_count": null,
      "id": "b836c81e",
      "metadata": {
        "id": "b836c81e",
        "outputId": "a24e3ab1-6c52-4414-b3c1-84d408c2857a"
      },
      "outputs": [
        {
          "name": "stdout",
          "output_type": "stream",
          "text": [
            "[]\n"
          ]
        }
      ],
      "source": [
        "#   -10 -9 -8 -7 -6 -5 -4  -3  -2  -1\n",
        "l = [11,22,33,44,55,76,29,100,102,300]\n",
        "#    0  1  2  3  4  5  6   7   8  9\n",
        "\n",
        "print(l[15:20])"
      ]
    },
    {
      "cell_type": "markdown",
      "id": "1b7bd754",
      "metadata": {
        "id": "1b7bd754"
      },
      "source": [
        "### List Methods"
      ]
    },
    {
      "cell_type": "code",
      "execution_count": null,
      "id": "dcd121d8",
      "metadata": {
        "id": "dcd121d8",
        "outputId": "bff34ff0-cbd1-49e4-ee60-2212da706ed8"
      },
      "outputs": [
        {
          "name": "stdout",
          "output_type": "stream",
          "text": [
            "Help on class list in module builtins:\n",
            "\n",
            "class list(object)\n",
            " |  list(iterable=(), /)\n",
            " |  \n",
            " |  Built-in mutable sequence.\n",
            " |  \n",
            " |  If no argument is given, the constructor creates a new empty list.\n",
            " |  The argument must be an iterable if specified.\n",
            " |  \n",
            " |  Methods defined here:\n",
            " |  \n",
            " |  __add__(self, value, /)\n",
            " |      Return self+value.\n",
            " |  \n",
            " |  __contains__(self, key, /)\n",
            " |      Return key in self.\n",
            " |  \n",
            " |  __delitem__(self, key, /)\n",
            " |      Delete self[key].\n",
            " |  \n",
            " |  __eq__(self, value, /)\n",
            " |      Return self==value.\n",
            " |  \n",
            " |  __ge__(self, value, /)\n",
            " |      Return self>=value.\n",
            " |  \n",
            " |  __getattribute__(self, name, /)\n",
            " |      Return getattr(self, name).\n",
            " |  \n",
            " |  __getitem__(...)\n",
            " |      x.__getitem__(y) <==> x[y]\n",
            " |  \n",
            " |  __gt__(self, value, /)\n",
            " |      Return self>value.\n",
            " |  \n",
            " |  __iadd__(self, value, /)\n",
            " |      Implement self+=value.\n",
            " |  \n",
            " |  __imul__(self, value, /)\n",
            " |      Implement self*=value.\n",
            " |  \n",
            " |  __init__(self, /, *args, **kwargs)\n",
            " |      Initialize self.  See help(type(self)) for accurate signature.\n",
            " |  \n",
            " |  __iter__(self, /)\n",
            " |      Implement iter(self).\n",
            " |  \n",
            " |  __le__(self, value, /)\n",
            " |      Return self<=value.\n",
            " |  \n",
            " |  __len__(self, /)\n",
            " |      Return len(self).\n",
            " |  \n",
            " |  __lt__(self, value, /)\n",
            " |      Return self<value.\n",
            " |  \n",
            " |  __mul__(self, value, /)\n",
            " |      Return self*value.\n",
            " |  \n",
            " |  __ne__(self, value, /)\n",
            " |      Return self!=value.\n",
            " |  \n",
            " |  __repr__(self, /)\n",
            " |      Return repr(self).\n",
            " |  \n",
            " |  __reversed__(self, /)\n",
            " |      Return a reverse iterator over the list.\n",
            " |  \n",
            " |  __rmul__(self, value, /)\n",
            " |      Return value*self.\n",
            " |  \n",
            " |  __setitem__(self, key, value, /)\n",
            " |      Set self[key] to value.\n",
            " |  \n",
            " |  __sizeof__(self, /)\n",
            " |      Return the size of the list in memory, in bytes.\n",
            " |  \n",
            " |  append(self, object, /)\n",
            " |      Append object to the end of the list.\n",
            " |  \n",
            " |  clear(self, /)\n",
            " |      Remove all items from list.\n",
            " |  \n",
            " |  copy(self, /)\n",
            " |      Return a shallow copy of the list.\n",
            " |  \n",
            " |  count(self, value, /)\n",
            " |      Return number of occurrences of value.\n",
            " |  \n",
            " |  extend(self, iterable, /)\n",
            " |      Extend list by appending elements from the iterable.\n",
            " |  \n",
            " |  index(self, value, start=0, stop=9223372036854775807, /)\n",
            " |      Return first index of value.\n",
            " |      \n",
            " |      Raises ValueError if the value is not present.\n",
            " |  \n",
            " |  insert(self, index, object, /)\n",
            " |      Insert object before index.\n",
            " |  \n",
            " |  pop(self, index=-1, /)\n",
            " |      Remove and return item at index (default last).\n",
            " |      \n",
            " |      Raises IndexError if list is empty or index is out of range.\n",
            " |  \n",
            " |  remove(self, value, /)\n",
            " |      Remove first occurrence of value.\n",
            " |      \n",
            " |      Raises ValueError if the value is not present.\n",
            " |  \n",
            " |  reverse(self, /)\n",
            " |      Reverse *IN PLACE*.\n",
            " |  \n",
            " |  sort(self, /, *, key=None, reverse=False)\n",
            " |      Sort the list in ascending order and return None.\n",
            " |      \n",
            " |      The sort is in-place (i.e. the list itself is modified) and stable (i.e. the\n",
            " |      order of two equal elements is maintained).\n",
            " |      \n",
            " |      If a key function is given, apply it once to each list item and sort them,\n",
            " |      ascending or descending, according to their function values.\n",
            " |      \n",
            " |      The reverse flag can be set to sort in descending order.\n",
            " |  \n",
            " |  ----------------------------------------------------------------------\n",
            " |  Class methods defined here:\n",
            " |  \n",
            " |  __class_getitem__(...) from builtins.type\n",
            " |      See PEP 585\n",
            " |  \n",
            " |  ----------------------------------------------------------------------\n",
            " |  Static methods defined here:\n",
            " |  \n",
            " |  __new__(*args, **kwargs) from builtins.type\n",
            " |      Create and return a new object.  See help(type) for accurate signature.\n",
            " |  \n",
            " |  ----------------------------------------------------------------------\n",
            " |  Data and other attributes defined here:\n",
            " |  \n",
            " |  __hash__ = None\n",
            "\n"
          ]
        }
      ],
      "source": [
        "help(list)"
      ]
    },
    {
      "cell_type": "code",
      "execution_count": null,
      "id": "235ae968",
      "metadata": {
        "id": "235ae968",
        "outputId": "95e5c942-3b10-4114-f0b5-ed0cb83e994c"
      },
      "outputs": [
        {
          "data": {
            "text/plain": [
              "[1, 2, 3, 4, 5, 6, 7, 8]"
            ]
          },
          "execution_count": 38,
          "metadata": {},
          "output_type": "execute_result"
        }
      ],
      "source": [
        "lst = [1,2,3,4,5,6,7,8]\n",
        "lst"
      ]
    },
    {
      "cell_type": "code",
      "execution_count": null,
      "id": "484f240c",
      "metadata": {
        "id": "484f240c"
      },
      "outputs": [],
      "source": [
        "#append()"
      ]
    },
    {
      "cell_type": "code",
      "execution_count": null,
      "id": "65e35633",
      "metadata": {
        "id": "65e35633",
        "outputId": "a044bd2e-ce1e-4c8c-8392-27c860465dfc"
      },
      "outputs": [
        {
          "data": {
            "text/plain": [
              "[1, 2, 3, 4, 5, 6, 7, 8, '10']"
            ]
          },
          "execution_count": 40,
          "metadata": {},
          "output_type": "execute_result"
        }
      ],
      "source": [
        "#.append is used to add elements in the list\n",
        "lst.append(\"10\")\n",
        "lst"
      ]
    },
    {
      "cell_type": "code",
      "execution_count": null,
      "id": "4b643b73",
      "metadata": {
        "id": "4b643b73"
      },
      "outputs": [],
      "source": [
        "lst.append([\"12,13\"]) #creates nested list"
      ]
    },
    {
      "cell_type": "code",
      "execution_count": null,
      "id": "71ef2258",
      "metadata": {
        "id": "71ef2258",
        "outputId": "3687f420-bda7-4d37-fa44-a98e31da8afa"
      },
      "outputs": [
        {
          "data": {
            "text/plain": [
              "[1, 2, 3, 4, 5, 6, 7, 8, '10', ['12,13']]"
            ]
          },
          "execution_count": 42,
          "metadata": {},
          "output_type": "execute_result"
        }
      ],
      "source": [
        "lst"
      ]
    },
    {
      "cell_type": "code",
      "execution_count": null,
      "id": "06030399",
      "metadata": {
        "id": "06030399",
        "outputId": "d53bfffd-8ad4-4af9-8229-b2f661b939b0"
      },
      "outputs": [
        {
          "data": {
            "text/plain": [
              "['12,13']"
            ]
          },
          "execution_count": 43,
          "metadata": {},
          "output_type": "execute_result"
        }
      ],
      "source": [
        "lst[9]"
      ]
    },
    {
      "cell_type": "code",
      "execution_count": null,
      "id": "103730f9",
      "metadata": {
        "id": "103730f9",
        "outputId": "12a6032f-9c92-470b-9bf5-62cb210c7821"
      },
      "outputs": [
        {
          "data": {
            "text/plain": [
              "'12,13'"
            ]
          },
          "execution_count": 44,
          "metadata": {},
          "output_type": "execute_result"
        }
      ],
      "source": [
        "lst[9][0]"
      ]
    },
    {
      "cell_type": "code",
      "execution_count": null,
      "id": "8d116891",
      "metadata": {
        "id": "8d116891"
      },
      "outputs": [],
      "source": [
        "# insert()"
      ]
    },
    {
      "cell_type": "code",
      "execution_count": null,
      "id": "abfcec7d",
      "metadata": {
        "id": "abfcec7d",
        "outputId": "ecc56c45-2593-4078-c860-4bfa6375a1bd"
      },
      "outputs": [
        {
          "data": {
            "text/plain": [
              "[1, 2, 15, 3, 4, 5, 6, 7, 8, '10', ['12,13']]"
            ]
          },
          "execution_count": 46,
          "metadata": {},
          "output_type": "execute_result"
        }
      ],
      "source": [
        "lst.insert(2,15)\n",
        "lst"
      ]
    },
    {
      "cell_type": "code",
      "execution_count": null,
      "id": "fd41d869",
      "metadata": {
        "id": "fd41d869"
      },
      "outputs": [],
      "source": [
        "#extend()"
      ]
    },
    {
      "cell_type": "code",
      "execution_count": null,
      "id": "92253569",
      "metadata": {
        "id": "92253569",
        "outputId": "26b7d830-1aab-4612-8101-397d12d578a8"
      },
      "outputs": [
        {
          "data": {
            "text/plain": [
              "[1, 2, 15, 3, 4, 5, 6, 7, 8, '10', ['12,13'], 20, 21]"
            ]
          },
          "execution_count": 48,
          "metadata": {},
          "output_type": "execute_result"
        }
      ],
      "source": [
        "lst.extend([20,21])\n",
        "lst"
      ]
    },
    {
      "cell_type": "code",
      "execution_count": null,
      "id": "94a5fedb",
      "metadata": {
        "id": "94a5fedb",
        "outputId": "f8331e7b-61e4-4641-cfdb-0957f236fcfe"
      },
      "outputs": [
        {
          "data": {
            "text/plain": [
              "[1,\n",
              " 2,\n",
              " 15,\n",
              " 3,\n",
              " 4,\n",
              " 5,\n",
              " 6,\n",
              " 7,\n",
              " 8,\n",
              " '10',\n",
              " ['12,13'],\n",
              " 20,\n",
              " 21,\n",
              " 1,\n",
              " 2,\n",
              " 15,\n",
              " 3,\n",
              " 4,\n",
              " 5,\n",
              " 6,\n",
              " 7,\n",
              " 8,\n",
              " '10',\n",
              " ['12,13'],\n",
              " 20,\n",
              " 21,\n",
              " 1,\n",
              " 2,\n",
              " 15,\n",
              " 3,\n",
              " 4,\n",
              " 5,\n",
              " 6,\n",
              " 7,\n",
              " 8,\n",
              " '10',\n",
              " ['12,13'],\n",
              " 20,\n",
              " 21,\n",
              " 1,\n",
              " 2,\n",
              " 15,\n",
              " 3,\n",
              " 4,\n",
              " 5,\n",
              " 6,\n",
              " 7,\n",
              " 8,\n",
              " '10',\n",
              " ['12,13'],\n",
              " 20,\n",
              " 21,\n",
              " 1,\n",
              " 2,\n",
              " 15,\n",
              " 3,\n",
              " 4,\n",
              " 5,\n",
              " 6,\n",
              " 7,\n",
              " 8,\n",
              " '10',\n",
              " ['12,13'],\n",
              " 20,\n",
              " 21]"
            ]
          },
          "execution_count": 49,
          "metadata": {},
          "output_type": "execute_result"
        }
      ],
      "source": [
        "lst*5"
      ]
    },
    {
      "cell_type": "code",
      "execution_count": null,
      "id": "c6e5bf5f",
      "metadata": {
        "id": "c6e5bf5f",
        "outputId": "aab53e4d-18a6-42f8-e2df-f9a55faddb73"
      },
      "outputs": [
        {
          "data": {
            "text/plain": [
              "[1, 2, 3, 4, 5, 1, 2, 3, 4, 5, 1, 2, 3, 4, 5, 1, 2, 3, 4, 5, 1, 2, 3, 4, 5]"
            ]
          },
          "execution_count": 50,
          "metadata": {},
          "output_type": "execute_result"
        }
      ],
      "source": [
        "lst1 = [1,2,3,4,5]\n",
        "lst1*5"
      ]
    },
    {
      "cell_type": "code",
      "execution_count": null,
      "id": "1cdcc7f8",
      "metadata": {
        "id": "1cdcc7f8"
      },
      "outputs": [],
      "source": [
        "#pop()"
      ]
    },
    {
      "cell_type": "code",
      "execution_count": null,
      "id": "49bee0b4",
      "metadata": {
        "id": "49bee0b4",
        "outputId": "77ade75a-fa69-4fea-bdee-56cf40a048fc"
      },
      "outputs": [
        {
          "data": {
            "text/plain": [
              "[1, 2, 15, 3, 4, 5, 6, 7, 8, '10', ['12,13'], 20]"
            ]
          },
          "execution_count": 52,
          "metadata": {},
          "output_type": "execute_result"
        }
      ],
      "source": [
        " lst.pop()\n",
        "lst"
      ]
    },
    {
      "cell_type": "code",
      "execution_count": null,
      "id": "63548261",
      "metadata": {
        "id": "63548261",
        "outputId": "7e011836-437d-438f-8002-5a88a89235bf"
      },
      "outputs": [
        {
          "data": {
            "text/plain": [
              "[1, 2, 3, 4, 5, 6, 7, 8, '10', ['12,13'], 20]"
            ]
          },
          "execution_count": 53,
          "metadata": {},
          "output_type": "execute_result"
        }
      ],
      "source": [
        "lst.pop(2)\n",
        "lst"
      ]
    },
    {
      "cell_type": "markdown",
      "id": "715c48cc",
      "metadata": {
        "id": "715c48cc"
      },
      "source": [
        "## SETS:"
      ]
    },
    {
      "cell_type": "markdown",
      "id": "4ac18a56",
      "metadata": {
        "id": "4ac18a56"
      },
      "source": [
        "Set is an unordered collection data type that is iterable, mutable and has no duplicate elements. Python's set class represents the mathematical notion of a set. This is based on a data structure known as hash table."
      ]
    },
    {
      "cell_type": "code",
      "execution_count": null,
      "id": "13c64292",
      "metadata": {
        "id": "13c64292",
        "outputId": "b9db3309-ba74-4e5e-f378-9ad393c5b0ed"
      },
      "outputs": [
        {
          "name": "stdout",
          "output_type": "stream",
          "text": [
            "set()\n",
            "<class 'set'>\n"
          ]
        }
      ],
      "source": [
        "# Defining an empty set\n",
        "\n",
        "my_set = set()\n",
        "print(my_set)\n",
        "print(type(my_set))"
      ]
    },
    {
      "cell_type": "code",
      "execution_count": null,
      "id": "51f7d89a",
      "metadata": {
        "id": "51f7d89a",
        "outputId": "892520cb-6cbc-47ab-bbb2-9efcb77f16be"
      },
      "outputs": [
        {
          "data": {
            "text/plain": [
              "dict"
            ]
          },
          "execution_count": 55,
          "metadata": {},
          "output_type": "execute_result"
        }
      ],
      "source": [
        "type ({})"
      ]
    },
    {
      "cell_type": "code",
      "execution_count": null,
      "id": "ac30a098",
      "metadata": {
        "id": "ac30a098",
        "outputId": "e81460e5-9346-4555-e16e-9c771fc072e6"
      },
      "outputs": [
        {
          "data": {
            "text/plain": [
              "set"
            ]
          },
          "execution_count": 56,
          "metadata": {},
          "output_type": "execute_result"
        }
      ],
      "source": [
        "type({1})"
      ]
    },
    {
      "cell_type": "code",
      "execution_count": null,
      "id": "989843cf",
      "metadata": {
        "id": "989843cf",
        "outputId": "2f4756c1-17d0-472a-a0a0-0535a5e4852e"
      },
      "outputs": [
        {
          "name": "stdout",
          "output_type": "stream",
          "text": [
            "{1, 2, 3, 4, 5}\n"
          ]
        }
      ],
      "source": [
        "print(set([1,2,3,4,5,5]))"
      ]
    },
    {
      "cell_type": "code",
      "execution_count": null,
      "id": "b32f5b52",
      "metadata": {
        "id": "b32f5b52"
      },
      "outputs": [],
      "source": [
        "set_var = {1,2,3,4,5}"
      ]
    },
    {
      "cell_type": "code",
      "execution_count": null,
      "id": "943994e7",
      "metadata": {
        "id": "943994e7",
        "outputId": "65d76a88-cdb2-4fa9-ff17-f24c0cecd2c1"
      },
      "outputs": [
        {
          "name": "stdout",
          "output_type": "stream",
          "text": [
            "{1, 2, 3, 4, 5}\n"
          ]
        },
        {
          "data": {
            "text/plain": [
              "set"
            ]
          },
          "execution_count": 59,
          "metadata": {},
          "output_type": "execute_result"
        }
      ],
      "source": [
        "print(set_var)\n",
        "type(set_var)"
      ]
    },
    {
      "cell_type": "code",
      "execution_count": null,
      "id": "d5f797d6",
      "metadata": {
        "id": "d5f797d6",
        "outputId": "9080ae41-2ae0-4d90-e95d-7bf95356bd7f"
      },
      "outputs": [
        {
          "ename": "TypeError",
          "evalue": "'set' object is not subscriptable",
          "output_type": "error",
          "traceback": [
            "\u001b[1;31m---------------------------------------------------------------------------\u001b[0m",
            "\u001b[1;31mTypeError\u001b[0m                                 Traceback (most recent call last)",
            "Cell \u001b[1;32mIn[60], line 1\u001b[0m\n\u001b[1;32m----> 1\u001b[0m \u001b[43mset_var\u001b[49m\u001b[43m[\u001b[49m\u001b[38;5;241;43m2\u001b[39;49m\u001b[43m]\u001b[49m\n",
            "\u001b[1;31mTypeError\u001b[0m: 'set' object is not subscriptable"
          ]
        }
      ],
      "source": [
        "set_var[2] # not subsriptable"
      ]
    },
    {
      "cell_type": "code",
      "execution_count": null,
      "id": "62072065",
      "metadata": {
        "id": "62072065",
        "outputId": "1ba1364c-99c7-48fc-c596-013c80d08bb3"
      },
      "outputs": [
        {
          "name": "stdout",
          "output_type": "stream",
          "text": [
            "1\n",
            "2\n",
            "3\n",
            "4\n",
            "5\n"
          ]
        }
      ],
      "source": [
        "# iterable\n",
        "for i in set_var:\n",
        "    print(i)"
      ]
    },
    {
      "cell_type": "code",
      "execution_count": null,
      "id": "aaa7842e",
      "metadata": {
        "id": "aaa7842e",
        "outputId": "4b110afa-984b-4a6f-80ee-c917cdfac613"
      },
      "outputs": [
        {
          "data": {
            "text/plain": [
              "{1, 2, 3, 4, 5, 10}"
            ]
          },
          "execution_count": 62,
          "metadata": {},
          "output_type": "execute_result"
        }
      ],
      "source": [
        "set_var.add(10)\n",
        "set_var"
      ]
    },
    {
      "cell_type": "code",
      "execution_count": null,
      "id": "42622780",
      "metadata": {
        "id": "42622780",
        "outputId": "57a01bfc-4472-411b-c49a-6b2cf3509a4d"
      },
      "outputs": [
        {
          "data": {
            "text/plain": [
              "set()"
            ]
          },
          "execution_count": 63,
          "metadata": {},
          "output_type": "execute_result"
        }
      ],
      "source": [
        "set_var.clear()\n",
        "set_var"
      ]
    },
    {
      "cell_type": "code",
      "execution_count": null,
      "id": "041c7e0c",
      "metadata": {
        "id": "041c7e0c",
        "outputId": "46aada99-08dc-441f-cecd-1208fbb9f59e"
      },
      "outputs": [
        {
          "data": {
            "text/plain": [
              "{1, 3, 5, 7, 9}"
            ]
          },
          "execution_count": 64,
          "metadata": {},
          "output_type": "execute_result"
        }
      ],
      "source": [
        "set_var = set({9,1,5,7,3,9}) # in order\n",
        "set_var"
      ]
    },
    {
      "cell_type": "code",
      "execution_count": null,
      "id": "86526d86",
      "metadata": {
        "id": "86526d86",
        "outputId": "93a127d1-0b9b-4d31-93ec-f9568a75d2b7"
      },
      "outputs": [
        {
          "data": {
            "text/plain": [
              "{4, 5}"
            ]
          },
          "execution_count": 65,
          "metadata": {},
          "output_type": "execute_result"
        }
      ],
      "source": [
        "set_1 = {1,2,3,4,5}\n",
        "set_2 = {4,5,6,7,8}\n",
        "set_1.intersection(set_2)\n"
      ]
    },
    {
      "cell_type": "code",
      "execution_count": null,
      "id": "0733c3bd",
      "metadata": {
        "id": "0733c3bd",
        "outputId": "d0b22284-801b-45c2-f1cc-e02a2e50557a"
      },
      "outputs": [
        {
          "data": {
            "text/plain": [
              "{1, 2, 3, 4, 5}"
            ]
          },
          "execution_count": 66,
          "metadata": {},
          "output_type": "execute_result"
        }
      ],
      "source": [
        "set_1"
      ]
    },
    {
      "cell_type": "code",
      "execution_count": null,
      "id": "320d8e12",
      "metadata": {
        "id": "320d8e12"
      },
      "outputs": [],
      "source": [
        "set_1.intersection_update(set_2)"
      ]
    },
    {
      "cell_type": "code",
      "execution_count": null,
      "id": "b101d99e",
      "metadata": {
        "id": "b101d99e",
        "outputId": "2acd9e40-f37b-4c42-da32-1efd061a413e"
      },
      "outputs": [
        {
          "data": {
            "text/plain": [
              "{4, 5}"
            ]
          },
          "execution_count": 68,
          "metadata": {},
          "output_type": "execute_result"
        }
      ],
      "source": [
        "set_1"
      ]
    },
    {
      "cell_type": "code",
      "execution_count": null,
      "id": "0f0563c8",
      "metadata": {
        "id": "0f0563c8"
      },
      "outputs": [],
      "source": [
        "# Difference"
      ]
    },
    {
      "cell_type": "code",
      "execution_count": null,
      "id": "bce86197",
      "metadata": {
        "id": "bce86197",
        "outputId": "554df21d-37d2-427e-8aca-d364a30e1256"
      },
      "outputs": [
        {
          "data": {
            "text/plain": [
              "{1, 2, 3}"
            ]
          },
          "execution_count": 70,
          "metadata": {},
          "output_type": "execute_result"
        }
      ],
      "source": [
        "set_1 = {1,2,3,4,5}\n",
        "set_2 = {4,5,6,7,8}\n",
        "set_1.difference(set_2)"
      ]
    },
    {
      "cell_type": "code",
      "execution_count": null,
      "id": "39b16928",
      "metadata": {
        "id": "39b16928"
      },
      "outputs": [],
      "source": [
        "set_1 = {1,2,3,4,5}\n",
        "set_2 = {4,5,6,7,8}\n",
        "set_1.difference_update(set_2)"
      ]
    },
    {
      "cell_type": "code",
      "execution_count": null,
      "id": "b81d52d5",
      "metadata": {
        "id": "b81d52d5",
        "outputId": "ca2f53db-5daf-49bf-8272-a4c96c45aaf1"
      },
      "outputs": [
        {
          "data": {
            "text/plain": [
              "{1, 2, 3}"
            ]
          },
          "execution_count": 72,
          "metadata": {},
          "output_type": "execute_result"
        }
      ],
      "source": [
        "set_1"
      ]
    },
    {
      "cell_type": "code",
      "execution_count": null,
      "id": "f06cc9e5",
      "metadata": {
        "id": "f06cc9e5",
        "outputId": "948e85b5-4ac1-46e4-c5f6-6a172b3892f9"
      },
      "outputs": [
        {
          "data": {
            "text/plain": [
              "False"
            ]
          },
          "execution_count": 73,
          "metadata": {},
          "output_type": "execute_result"
        }
      ],
      "source": [
        "set_1 = {1,2,3,4,5}\n",
        "set_2 = {4,5,6,7,8}\n",
        "set_2.issuperset(set_1)"
      ]
    },
    {
      "cell_type": "code",
      "execution_count": null,
      "id": "f1df1326",
      "metadata": {
        "id": "f1df1326",
        "outputId": "4ace9284-7210-4596-d1a9-cca64d1481ae"
      },
      "outputs": [
        {
          "data": {
            "text/plain": [
              "False"
            ]
          },
          "execution_count": 74,
          "metadata": {},
          "output_type": "execute_result"
        }
      ],
      "source": [
        "set_2.issubset(set_1)"
      ]
    },
    {
      "cell_type": "markdown",
      "id": "04c4656a",
      "metadata": {
        "id": "04c4656a"
      },
      "source": [
        "### Dictionaries"
      ]
    },
    {
      "cell_type": "markdown",
      "id": "af887d8c",
      "metadata": {
        "id": "af887d8c"
      },
      "source": [
        "A dictionary is a collection which is unordered, changeable and indexed. In python, dictionaries are written with curly brackets, and they have keys and values."
      ]
    },
    {
      "cell_type": "code",
      "execution_count": null,
      "id": "e5b2b36c",
      "metadata": {
        "id": "e5b2b36c"
      },
      "outputs": [],
      "source": [
        "dic = {}"
      ]
    },
    {
      "cell_type": "code",
      "execution_count": null,
      "id": "38c27cca",
      "metadata": {
        "id": "38c27cca",
        "outputId": "ca50e09c-f563-4530-eee2-53ccfca14e03"
      },
      "outputs": [
        {
          "data": {
            "text/plain": [
              "dict"
            ]
          },
          "execution_count": 76,
          "metadata": {},
          "output_type": "execute_result"
        }
      ],
      "source": [
        "type(dic)"
      ]
    },
    {
      "cell_type": "code",
      "execution_count": null,
      "id": "4fc24ab2",
      "metadata": {
        "id": "4fc24ab2",
        "outputId": "0233cb8a-6839-48f6-d037-e00efbd04504"
      },
      "outputs": [
        {
          "data": {
            "text/plain": [
              "dict"
            ]
          },
          "execution_count": 77,
          "metadata": {},
          "output_type": "execute_result"
        }
      ],
      "source": [
        "type(dict())"
      ]
    },
    {
      "cell_type": "code",
      "execution_count": null,
      "id": "0d2acf9e",
      "metadata": {
        "id": "0d2acf9e",
        "outputId": "c9aea51f-e3cc-4b83-d24e-a339f37f56a0"
      },
      "outputs": [
        {
          "data": {
            "text/plain": [
              "dict"
            ]
          },
          "execution_count": 78,
          "metadata": {},
          "output_type": "execute_result"
        }
      ],
      "source": [
        "type ({})"
      ]
    },
    {
      "cell_type": "code",
      "execution_count": null,
      "id": "17354041",
      "metadata": {
        "id": "17354041",
        "outputId": "850c4365-da68-49e4-a39b-ed4f1220da59"
      },
      "outputs": [
        {
          "data": {
            "text/plain": [
              "set"
            ]
          },
          "execution_count": 79,
          "metadata": {},
          "output_type": "execute_result"
        }
      ],
      "source": [
        "type({1,2})"
      ]
    },
    {
      "cell_type": "code",
      "execution_count": null,
      "id": "007b2505",
      "metadata": {
        "id": "007b2505",
        "outputId": "70ef2010-792c-46a3-c15f-9016fe533c4b"
      },
      "outputs": [
        {
          "data": {
            "text/plain": [
              "dict"
            ]
          },
          "execution_count": 80,
          "metadata": {},
          "output_type": "execute_result"
        }
      ],
      "source": [
        "type({1:\"Garima\"})"
      ]
    },
    {
      "cell_type": "code",
      "execution_count": null,
      "id": "a2499f2a",
      "metadata": {
        "id": "a2499f2a",
        "outputId": "c7810e66-4da8-4535-9524-94b6cc4a4d88"
      },
      "outputs": [
        {
          "ename": "SyntaxError",
          "evalue": "expression cannot contain assignment, perhaps you meant \"==\"? (1070228807.py, line 1)",
          "output_type": "error",
          "traceback": [
            "\u001b[1;36m  Cell \u001b[1;32mIn[81], line 1\u001b[1;36m\u001b[0m\n\u001b[1;33m    dict(\"name\"= \"Krish\", \"age\" = 31)  #keys should not contain quotes\u001b[0m\n\u001b[1;37m         ^\u001b[0m\n\u001b[1;31mSyntaxError\u001b[0m\u001b[1;31m:\u001b[0m expression cannot contain assignment, perhaps you meant \"==\"?\n"
          ]
        }
      ],
      "source": [
        "dict(\"name\"= \"Krish\", \"age\" = 31)  #keys should not contain quotes"
      ]
    },
    {
      "cell_type": "code",
      "execution_count": null,
      "id": "7787e7c2",
      "metadata": {
        "id": "7787e7c2",
        "outputId": "70cc6baf-2e07-4ff8-9064-134c1a0f2a10"
      },
      "outputs": [
        {
          "data": {
            "text/plain": [
              "{'name': 'Krish', 'age': 31}"
            ]
          },
          "execution_count": 82,
          "metadata": {},
          "output_type": "execute_result"
        }
      ],
      "source": [
        "dict( name= \"Krish\", age = 31)"
      ]
    },
    {
      "cell_type": "code",
      "execution_count": null,
      "id": "84d9cb6c",
      "metadata": {
        "id": "84d9cb6c",
        "outputId": "0c72747e-b492-433e-8e12-0d93aeb0eb75"
      },
      "outputs": [
        {
          "data": {
            "text/plain": [
              "dict"
            ]
          },
          "execution_count": 83,
          "metadata": {},
          "output_type": "execute_result"
        }
      ],
      "source": [
        "my_dict = {\"Car1\":\"Audi\", \"Car2\":\"BMW\", \"Car3\":\"Mercidies\"}\n",
        "type(my_dict)"
      ]
    },
    {
      "cell_type": "code",
      "execution_count": null,
      "id": "2cd6505f",
      "metadata": {
        "id": "2cd6505f",
        "outputId": "1eb140d2-eaa4-4d59-d081-361c478a47db"
      },
      "outputs": [
        {
          "data": {
            "text/plain": [
              "'Audi'"
            ]
          },
          "execution_count": 84,
          "metadata": {},
          "output_type": "execute_result"
        }
      ],
      "source": [
        "# Accessing item values based on keys\n",
        "my_dict['Car1']"
      ]
    },
    {
      "cell_type": "code",
      "execution_count": null,
      "id": "77a4325c",
      "metadata": {
        "id": "77a4325c",
        "outputId": "c06c6546-534f-4dc1-88ba-c95cf1aac409"
      },
      "outputs": [
        {
          "data": {
            "text/plain": [
              "dict_items([('Car1', 'Audi'), ('Car2', 'BMW'), ('Car3', 'Mercidies')])"
            ]
          },
          "execution_count": 85,
          "metadata": {},
          "output_type": "execute_result"
        }
      ],
      "source": [
        "my_dict.items()"
      ]
    },
    {
      "cell_type": "code",
      "execution_count": null,
      "id": "d6c590ee",
      "metadata": {
        "id": "d6c590ee",
        "outputId": "f2767b8e-a552-48de-f709-747605c7da34"
      },
      "outputs": [
        {
          "data": {
            "text/plain": [
              "dict_keys(['Car1', 'Car2', 'Car3'])"
            ]
          },
          "execution_count": 86,
          "metadata": {},
          "output_type": "execute_result"
        }
      ],
      "source": [
        "my_dict.keys()"
      ]
    },
    {
      "cell_type": "code",
      "execution_count": null,
      "id": "1bcfae77",
      "metadata": {
        "id": "1bcfae77",
        "outputId": "64e42fed-ccf1-4b4a-e6ac-4a14209d7366"
      },
      "outputs": [
        {
          "data": {
            "text/plain": [
              "dict_values(['Audi', 'BMW', 'Mercidies'])"
            ]
          },
          "execution_count": 87,
          "metadata": {},
          "output_type": "execute_result"
        }
      ],
      "source": [
        "my_dict.values()"
      ]
    },
    {
      "cell_type": "code",
      "execution_count": null,
      "id": "a41adabf",
      "metadata": {
        "id": "a41adabf",
        "outputId": "5d6aa282-6499-4eba-e01e-cfc138124efd"
      },
      "outputs": [
        {
          "name": "stdout",
          "output_type": "stream",
          "text": [
            "Car1\n",
            "Car2\n",
            "Car3\n"
          ]
        }
      ],
      "source": [
        "for i in my_dict:\n",
        "    print (i)"
      ]
    },
    {
      "cell_type": "code",
      "execution_count": null,
      "id": "bf8a23fd",
      "metadata": {
        "id": "bf8a23fd",
        "outputId": "1763ac97-3b15-452b-e125-86de9f84fef4"
      },
      "outputs": [
        {
          "name": "stdout",
          "output_type": "stream",
          "text": [
            "Audi\n",
            "BMW\n",
            "Mercidies\n"
          ]
        }
      ],
      "source": [
        "for x in my_dict.values():\n",
        "    print (x)"
      ]
    },
    {
      "cell_type": "code",
      "execution_count": null,
      "id": "6bca700a",
      "metadata": {
        "id": "6bca700a",
        "outputId": "868fa73b-d395-4d33-c351-470d04f0ada2"
      },
      "outputs": [
        {
          "name": "stdout",
          "output_type": "stream",
          "text": [
            "('Car1', 'Audi')\n",
            "('Car2', 'BMW')\n",
            "('Car3', 'Mercidies')\n"
          ]
        }
      ],
      "source": [
        "for x in my_dict.items():\n",
        "    print (x)"
      ]
    },
    {
      "cell_type": "code",
      "execution_count": null,
      "id": "8ef2645b",
      "metadata": {
        "id": "8ef2645b",
        "outputId": "fcb3b880-8b06-49a5-e193-75bab321751d"
      },
      "outputs": [
        {
          "data": {
            "text/plain": [
              "{'Car1': 'Audi', 'Car2': 'BMW', 'Car3': 'Mercidies', 'Car4': 'Ambassador'}"
            ]
          },
          "execution_count": 91,
          "metadata": {},
          "output_type": "execute_result"
        }
      ],
      "source": [
        "my_dict[\"Car4\"]=\"Ambassador\"\n",
        "my_dict"
      ]
    },
    {
      "cell_type": "code",
      "execution_count": null,
      "id": "7fda0b55",
      "metadata": {
        "id": "7fda0b55"
      },
      "outputs": [],
      "source": [
        "# Nested Dictionary"
      ]
    },
    {
      "cell_type": "code",
      "execution_count": null,
      "id": "afda0563",
      "metadata": {
        "id": "afda0563",
        "outputId": "639cc737-5cd5-4fea-cfa7-013cf8347d39"
      },
      "outputs": [
        {
          "data": {
            "text/plain": [
              "{1: {'Garima': 'B.E.Computer'}, 2: {'John': 'B.E. Civil'}}"
            ]
          },
          "execution_count": 93,
          "metadata": {},
          "output_type": "execute_result"
        }
      ],
      "source": [
        "stu1 = {'Garima': \"B.E.Computer\"}\n",
        "stu2 = {\"John\":\"B.E. Civil\"}\n",
        "\n",
        "stu = {1 : stu1 , 2 : stu2}\n",
        "stu"
      ]
    },
    {
      "cell_type": "code",
      "execution_count": null,
      "id": "8de17be7",
      "metadata": {
        "id": "8de17be7",
        "outputId": "4ef5fce5-a73d-4c76-e361-b1b5f6b9cc58"
      },
      "outputs": [
        {
          "name": "stdout",
          "output_type": "stream",
          "text": [
            "{'Garima': 'B.E.Computer'}\n"
          ]
        }
      ],
      "source": [
        "# Accessing items\n",
        "print(stu[1])"
      ]
    },
    {
      "cell_type": "code",
      "execution_count": null,
      "id": "b6183f70",
      "metadata": {
        "id": "b6183f70",
        "outputId": "7bce8588-469e-43b2-9088-86ec801d2650"
      },
      "outputs": [
        {
          "name": "stdout",
          "output_type": "stream",
          "text": [
            "B.E.Computer\n"
          ]
        }
      ],
      "source": [
        "print(stu[1][\"Garima\"])"
      ]
    },
    {
      "cell_type": "markdown",
      "id": "c068d3bd",
      "metadata": {
        "id": "c068d3bd"
      },
      "source": [
        "### Tuples"
      ]
    },
    {
      "cell_type": "code",
      "execution_count": null,
      "id": "52f7f776",
      "metadata": {
        "id": "52f7f776"
      },
      "outputs": [],
      "source": [
        "t = (1,2,3,4)"
      ]
    },
    {
      "cell_type": "code",
      "execution_count": null,
      "id": "a713a94f",
      "metadata": {
        "id": "a713a94f",
        "outputId": "7c928dea-c4a8-44af-a7aa-3275323e5d76"
      },
      "outputs": [
        {
          "data": {
            "text/plain": [
              "4"
            ]
          },
          "execution_count": 101,
          "metadata": {},
          "output_type": "execute_result"
        }
      ],
      "source": [
        "len(t)"
      ]
    },
    {
      "cell_type": "code",
      "execution_count": null,
      "id": "10fd3467",
      "metadata": {
        "id": "10fd3467",
        "outputId": "bfe70127-f2d9-4df1-a94b-f0e3939561db"
      },
      "outputs": [
        {
          "data": {
            "text/plain": [
              "tuple"
            ]
          },
          "execution_count": 102,
          "metadata": {},
          "output_type": "execute_result"
        }
      ],
      "source": [
        "type(t)"
      ]
    },
    {
      "cell_type": "code",
      "execution_count": null,
      "id": "ede75bd8",
      "metadata": {
        "id": "ede75bd8",
        "outputId": "99aabb16-df71-4bcd-920d-15dd4cdba9ba"
      },
      "outputs": [
        {
          "data": {
            "text/plain": [
              "1"
            ]
          },
          "execution_count": 103,
          "metadata": {},
          "output_type": "execute_result"
        }
      ],
      "source": [
        "t[0]"
      ]
    },
    {
      "cell_type": "code",
      "execution_count": null,
      "id": "e7f785ea",
      "metadata": {
        "id": "e7f785ea",
        "outputId": "7b893f2e-d689-459f-bd5d-89ce75dbf72b"
      },
      "outputs": [
        {
          "ename": "TypeError",
          "evalue": "'tuple' object does not support item assignment",
          "output_type": "error",
          "traceback": [
            "\u001b[1;31m---------------------------------------------------------------------------\u001b[0m",
            "\u001b[1;31mTypeError\u001b[0m                                 Traceback (most recent call last)",
            "Cell \u001b[1;32mIn[104], line 1\u001b[0m\n\u001b[1;32m----> 1\u001b[0m t[\u001b[38;5;241m0\u001b[39m] \u001b[38;5;241m=\u001b[39m \u001b[38;5;241m5\u001b[39m\n",
            "\u001b[1;31mTypeError\u001b[0m: 'tuple' object does not support item assignment"
          ]
        }
      ],
      "source": [
        "t[0] = 5 #doesnot support item assignment"
      ]
    },
    {
      "cell_type": "code",
      "execution_count": null,
      "id": "6e74428b",
      "metadata": {
        "id": "6e74428b",
        "outputId": "9ce4c784-0449-42a9-906a-16434f2c219d"
      },
      "outputs": [
        {
          "data": {
            "text/plain": [
              "3"
            ]
          },
          "execution_count": 105,
          "metadata": {},
          "output_type": "execute_result"
        }
      ],
      "source": [
        "t.index(4)"
      ]
    },
    {
      "cell_type": "code",
      "execution_count": null,
      "id": "b5a24d95",
      "metadata": {
        "id": "b5a24d95",
        "outputId": "fc7f2d3b-4ef0-406e-fa6f-bd8a599ce231"
      },
      "outputs": [
        {
          "data": {
            "text/plain": [
              "10"
            ]
          },
          "execution_count": 107,
          "metadata": {},
          "output_type": "execute_result"
        }
      ],
      "source": [
        "sum(t)"
      ]
    },
    {
      "cell_type": "code",
      "execution_count": null,
      "id": "83e4bc61",
      "metadata": {
        "id": "83e4bc61",
        "outputId": "731f3adc-9fbf-40f8-8abf-c6932fe97179"
      },
      "outputs": [
        {
          "data": {
            "text/plain": [
              "1"
            ]
          },
          "execution_count": 108,
          "metadata": {},
          "output_type": "execute_result"
        }
      ],
      "source": [
        "min(t)"
      ]
    },
    {
      "cell_type": "code",
      "execution_count": null,
      "id": "d1fd0d07",
      "metadata": {
        "id": "d1fd0d07",
        "outputId": "cf49baf9-999c-4846-d187-8e298f6b7dbe"
      },
      "outputs": [
        {
          "data": {
            "text/plain": [
              "4"
            ]
          },
          "execution_count": 109,
          "metadata": {},
          "output_type": "execute_result"
        }
      ],
      "source": [
        "max(t)"
      ]
    },
    {
      "cell_type": "code",
      "execution_count": null,
      "id": "29389240",
      "metadata": {
        "id": "29389240",
        "outputId": "77e4c56b-8719-44ac-ee1e-0ed308873eba"
      },
      "outputs": [
        {
          "data": {
            "text/plain": [
              "(1, 2, 3, 4)"
            ]
          },
          "execution_count": 110,
          "metadata": {},
          "output_type": "execute_result"
        }
      ],
      "source": [
        "t"
      ]
    },
    {
      "cell_type": "code",
      "execution_count": null,
      "id": "d6015256",
      "metadata": {
        "id": "d6015256",
        "outputId": "43317941-91e4-4127-8fcc-a0c456483623"
      },
      "outputs": [
        {
          "data": {
            "text/plain": [
              "4"
            ]
          },
          "execution_count": 111,
          "metadata": {},
          "output_type": "execute_result"
        }
      ],
      "source": [
        "t[-1]"
      ]
    },
    {
      "cell_type": "code",
      "execution_count": null,
      "id": "ac2495c4",
      "metadata": {
        "id": "ac2495c4",
        "outputId": "a7a5e4aa-b794-4353-f5d1-1f04e516579e"
      },
      "outputs": [
        {
          "data": {
            "text/plain": [
              "(2, 3)"
            ]
          },
          "execution_count": 112,
          "metadata": {},
          "output_type": "execute_result"
        }
      ],
      "source": [
        "t[1:3]"
      ]
    },
    {
      "cell_type": "code",
      "execution_count": null,
      "id": "cd1992a8",
      "metadata": {
        "id": "cd1992a8",
        "outputId": "66b2dff1-6ba6-4179-ad31-8e0855ba4056"
      },
      "outputs": [
        {
          "data": {
            "text/plain": [
              "(2, 3)"
            ]
          },
          "execution_count": 116,
          "metadata": {},
          "output_type": "execute_result"
        }
      ],
      "source": [
        "t[-3:-1]"
      ]
    },
    {
      "cell_type": "code",
      "execution_count": null,
      "id": "cb05606f",
      "metadata": {
        "id": "cb05606f",
        "outputId": "edfd24bc-fdd4-4124-e013-61d7da2199cc"
      },
      "outputs": [
        {
          "data": {
            "text/plain": [
              "2"
            ]
          },
          "execution_count": 117,
          "metadata": {},
          "output_type": "execute_result"
        }
      ],
      "source": [
        "t1 = (1,2,5,2,5,6,7,8,9)\n",
        "t1.count(5)"
      ]
    },
    {
      "cell_type": "code",
      "execution_count": null,
      "id": "5a9be58e",
      "metadata": {
        "id": "5a9be58e",
        "outputId": "f59d6594-a973-4c9c-d6b3-050fbc9888bf"
      },
      "outputs": [
        {
          "data": {
            "text/plain": [
              "[1, 2, 5, 2, 5, 6, 7, 8, 9]"
            ]
          },
          "execution_count": 118,
          "metadata": {},
          "output_type": "execute_result"
        }
      ],
      "source": [
        "list(t1)"
      ]
    },
    {
      "cell_type": "code",
      "execution_count": null,
      "id": "6f44cb31",
      "metadata": {
        "id": "6f44cb31"
      },
      "outputs": [],
      "source": []
    }
  ],
  "metadata": {
    "kernelspec": {
      "display_name": "Python 3 (ipykernel)",
      "language": "python",
      "name": "python3"
    },
    "language_info": {
      "codemirror_mode": {
        "name": "ipython",
        "version": 3
      },
      "file_extension": ".py",
      "mimetype": "text/x-python",
      "name": "python",
      "nbconvert_exporter": "python",
      "pygments_lexer": "ipython3",
      "version": "3.10.9"
    },
    "colab": {
      "provenance": [],
      "include_colab_link": true
    }
  },
  "nbformat": 4,
  "nbformat_minor": 5
}