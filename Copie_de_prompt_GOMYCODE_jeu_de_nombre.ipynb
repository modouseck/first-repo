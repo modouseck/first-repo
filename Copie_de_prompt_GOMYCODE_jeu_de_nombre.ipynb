{
  "nbformat": 4,
  "nbformat_minor": 0,
  "metadata": {
    "colab": {
      "provenance": [],
      "authorship_tag": "ABX9TyNC92zf5F+ybpq1tukBZRAK",
      "include_colab_link": true
    },
    "kernelspec": {
      "name": "python3",
      "display_name": "Python 3"
    },
    "language_info": {
      "name": "python"
    }
  },
  "cells": [
    {
      "cell_type": "markdown",
      "metadata": {
        "id": "view-in-github",
        "colab_type": "text"
      },
      "source": [
        "<a href=\"https://colab.research.google.com/github/modouseck/first-repo/blob/main/Copie_de_prompt_GOMYCODE_jeu_de_nombre.ipynb\" target=\"_parent\"><img src=\"https://colab.research.google.com/assets/colab-badge.svg\" alt=\"Open In Colab\"/></a>"
      ]
    },
    {
      "cell_type": "code",
      "source": [
        "import random\n",
        "\n",
        "nombre_secret = random.randint(1, 100)\n",
        "print(\"Bienvenue dans le jeu devinez le nombre !\")\n",
        "print(\"Je pense un nombre entre 1 et 100. Pouvez-vous le deviner ?\")\n",
        "\n",
        "while True:\n",
        "    try:\n",
        "        estimation = int(input(\"Entrez votre estimation : \"))\n",
        "        if estimation < nombre_secret:\n",
        "            print(\"Votre réponse est trop basse. Réessayez.\")\n",
        "        elif estimation > nombre_secret:\n",
        "            print(\"Votre réponse est trop élevée. Réessayez.\")\n",
        "        else:\n",
        "            print(\"Félicitations vous avez deviné le nombre correctement !\")\n",
        "            break\n",
        "    except ValueError:\n",
        "        print(\"Veuillez entrer un nombre entier valide.\")\n"
      ],
      "metadata": {
        "colab": {
          "base_uri": "https://localhost:8080/"
        },
        "id": "5MNmzHx2Ws8F",
        "outputId": "b1a36b0a-c359-4b09-afd3-58531c3d6ebd"
      },
      "execution_count": null,
      "outputs": [
        {
          "metadata": {
            "tags": null
          },
          "name": "stdout",
          "output_type": "stream",
          "text": [
            "Bienvenue dans le jeu devinez le nombre !\n",
            "Je pense un nombre entre 1 et 100. Pouvez-vous le deviner ?\n"
          ]
        }
      ]
    },
    {
      "cell_type": "code",
      "source": [
        "nombre_secret=random.randint(1, 100)\n",
        "print(\"bienvenue dans le jeu devinez le nombre !\")\n",
        "print(\"je pense un nombre entre 1 et 100. pouvez vous le deviner ?\")"
      ],
      "metadata": {
        "colab": {
          "base_uri": "https://localhost:8080/"
        },
        "id": "n4paxMC7OCAr",
        "outputId": "1f26e215-33c3-4033-a11a-30b21bdfabcb"
      },
      "execution_count": null,
      "outputs": [
        {
          "output_type": "stream",
          "name": "stdout",
          "text": [
            "bienvenue dans le jeu devinez le nombre !\n",
            "je pense un nombre entre 1 et 100. pouvez vous le deviner ?\n"
          ]
        }
      ]
    },
    {
      "cell_type": "code",
      "execution_count": null,
      "metadata": {
        "id": "3UGm7AEMNcPh"
      },
      "outputs": [],
      "source": [
        "import random"
      ]
    }
  ]
}