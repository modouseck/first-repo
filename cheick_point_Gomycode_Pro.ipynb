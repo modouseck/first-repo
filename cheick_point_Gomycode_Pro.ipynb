{
  "nbformat": 4,
  "nbformat_minor": 0,
  "metadata": {
    "colab": {
      "provenance": [],
      "authorship_tag": "ABX9TyMiFUgQ+dZ2J2pa/sTCzYyI",
      "include_colab_link": true
    },
    "kernelspec": {
      "name": "python3",
      "display_name": "Python 3"
    },
    "language_info": {
      "name": "python"
    }
  },
  "cells": [
    {
      "cell_type": "markdown",
      "metadata": {
        "id": "view-in-github",
        "colab_type": "text"
      },
      "source": [
        "<a href=\"https://colab.research.google.com/github/modouseck/first-repo/blob/main/cheick_point_Gomycode_Pro.ipynb\" target=\"_parent\"><img src=\"https://colab.research.google.com/assets/colab-badge.svg\" alt=\"Open In Colab\"/></a>"
      ]
    },
    {
      "cell_type": "code",
      "execution_count": null,
      "metadata": {
        "id": "Zfc05bWbQIch"
      },
      "outputs": [],
      "source": [
        "# bank_account.py\n",
        "\n",
        "class Compte:\n",
        "    def __init__(self, numero_compte: str, titulaire: str, balance: float = 0.0):\n",
        "        self.numero_compte = numero_compte\n",
        "        self.titulaire = titulaire\n",
        "        self.balance = balance\n",
        "\n",
        "    def depot(self, montant: float):\n",
        "        if montant > 0:\n",
        "            self.balance += montant\n",
        "            print(f\"Dépôt de {montant}€ effectué. Nouveau solde: {self.balance}€\")\n",
        "        else:\n",
        "            print(\"Le montant du dépôt doit être positif.\")\n",
        "\n",
        "    def retirer(self, montant: float):\n",
        "        if montant <= 0:\n",
        "            print(\"Le montant du retrait doit être positif.\")\n",
        "        elif montant > self.balance:\n",
        "            print(\"Fonds insuffisants pour effectuer le retrait.\")\n",
        "        else:\n",
        "            self.balance -= montant\n",
        "            print(f\"Retrait de {montant}€ effectué. Nouveau solde: {self.balance}€\")\n",
        "\n",
        "    def verifier_balance(self):\n",
        "        print(f\"Solde actuel du compte {self.numero_compte}: {self.balance}€\")\n",
        "        return self.balance\n",
        "\n",
        "\n",
        "# Création d'une instance de Compte\n",
        "mon_compte = Compte(\"12345678\", \"Cathy\", 100.0)\n",
        "mon_compte.verifier_balance()\n",
        "mon_compte.depot(50.0)\n",
        "mon_compte.retirer(30.0)\n",
        "mon_compte.verifier_balance()\n",
        "\n",
        "print(\"\\n--- Test avec plusieurs comptes ---\")\n",
        "\n",
        "# Autres exemples de comptes\n",
        "compte_1 = Compte(\"98765432\", \"Ali\", 200.0)\n",
        "compte_1.depot(100)\n",
        "compte_1.retirer(50)\n",
        "compte_1.verifier_balance()\n",
        "\n",
        "compte_2 = Compte(\"55554444\", \"Fatou\", 500.0)\n",
        "compte_2.retirer(600)  # Doit afficher un message d'erreur\n",
        "compte_2.depot(200)\n",
        "compte_2.retirer(300)\n",
        "compte_2.verifier_balance()\n"
      ]
    }
  ]
}