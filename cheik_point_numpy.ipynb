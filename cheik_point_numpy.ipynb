{
  "nbformat": 4,
  "nbformat_minor": 0,
  "metadata": {
    "colab": {
      "provenance": [],
      "authorship_tag": "ABX9TyNh3oYVyRYucel+R4P8O/0r",
      "include_colab_link": true
    },
    "kernelspec": {
      "name": "python3",
      "display_name": "Python 3"
    },
    "language_info": {
      "name": "python"
    }
  },
  "cells": [
    {
      "cell_type": "markdown",
      "metadata": {
        "id": "view-in-github",
        "colab_type": "text"
      },
      "source": [
        "<a href=\"https://colab.research.google.com/github/modouseck/first-repo/blob/main/cheik_point_numpy.ipynb\" target=\"_parent\"><img src=\"https://colab.research.google.com/assets/colab-badge.svg\" alt=\"Open In Colab\"/></a>"
      ]
    },
    {
      "cell_type": "code",
      "execution_count": 1,
      "metadata": {
        "colab": {
          "base_uri": "https://localhost:8080/"
        },
        "id": "N5AlMrKRCbRV",
        "outputId": "231cd403-a610-4c9d-bf29-3f458b97d4d5"
      },
      "outputs": [
        {
          "output_type": "stream",
          "name": "stdout",
          "text": [
            "Tableau des notes : [85 90 88 92 95 80 75 98 89 83]\n",
            "Moyenne : 87.5\n",
            "Médiane : 88.5\n",
            "Écart type : 6.591661399070799\n",
            "Note maximale : 98\n",
            "Note minimale : 75\n",
            "Indice de la note la plus élevée : 7\n",
            "Nombre de notes > 90 : 3\n",
            "Pourcentage de notes > 90 : 30.00%\n",
            "Notes supérieures à 75 : [85 90 88 92 95 80 98 89 83]\n"
          ]
        }
      ],
      "source": [
        "import numpy as np\n",
        "\n",
        "# Création du tableau de notes\n",
        "grades = np.array([85, 90, 88, 92, 95, 80, 75, 98, 89, 83])\n",
        "\n",
        "# Calculs statistiques\n",
        "moyenne = np.mean(grades)\n",
        "mediane = np.median(grades)\n",
        "ecart_type = np.std(grades)\n",
        "\n",
        "# Valeurs max et min\n",
        "max_grade = np.max(grades)\n",
        "min_grade = np.min(grades)\n",
        "\n",
        "# Indice de la note la plus élevée\n",
        "indice_max = np.argmax(grades)\n",
        "\n",
        "# Nombre d'étudiants ayant une note > 90\n",
        "nb_superieur_90 = np.sum(grades > 90)\n",
        "\n",
        "# Pourcentage de notes > 90\n",
        "pourcentage_superieur_90 = np.mean(grades > 90) * 100\n",
        "\n",
        "# Notes supérieures à 75 (réussites)\n",
        "passing_grades = grades[grades > 75]\n",
        "\n",
        "# Affichage des résultats\n",
        "print(\"Tableau des notes :\", grades)\n",
        "print(\"Moyenne :\", moyenne)\n",
        "print(\"Médiane :\", mediane)\n",
        "print(\"Écart type :\", ecart_type)\n",
        "print(\"Note maximale :\", max_grade)\n",
        "print(\"Note minimale :\", min_grade)\n",
        "print(\"Indice de la note la plus élevée :\", indice_max)\n",
        "print(\"Nombre de notes > 90 :\", nb_superieur_90)\n",
        "print(\"Pourcentage de notes > 90 : {:.2f}%\".format(pourcentage_superieur_90))\n",
        "print(\"Notes supérieures à 75 :\", passing_grades)\n"
      ]
    }
  ]
}