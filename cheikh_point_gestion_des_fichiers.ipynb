{
  "nbformat": 4,
  "nbformat_minor": 0,
  "metadata": {
    "colab": {
      "provenance": [],
      "authorship_tag": "ABX9TyNVqkTeMpsxyl+LhylGHaVI",
      "include_colab_link": true
    },
    "kernelspec": {
      "name": "python3",
      "display_name": "Python 3"
    },
    "language_info": {
      "name": "python"
    }
  },
  "cells": [
    {
      "cell_type": "markdown",
      "metadata": {
        "id": "view-in-github",
        "colab_type": "text"
      },
      "source": [
        "<a href=\"https://colab.research.google.com/github/modouseck/first-repo/blob/main/cheikh_point_gestion_des_fichiers.ipynb\" target=\"_parent\"><img src=\"https://colab.research.google.com/assets/colab-badge.svg\" alt=\"Open In Colab\"/></a>"
      ]
    },
    {
      "cell_type": "code",
      "execution_count": 11,
      "metadata": {
        "colab": {
          "base_uri": "https://localhost:8080/"
        },
        "id": "tinlxPsk6rmS",
        "outputId": "0f854185-5d25-430e-bfd3-b38058723cdf"
      },
      "outputs": [
        {
          "output_type": "stream",
          "name": "stdout",
          "text": [
            "Moyenne des prêts : nan\n",
            "Médiane des prêts : nan\n",
            "Écart-type des prêts : nan\n"
          ]
        }
      ],
      "source": [
        "import numpy as np\n",
        "# Ouverture du fichier\n",
        "fichier = open('/Loan_prediction_dataset.csv', 'r')\n",
        "\n",
        "# Lecture des données avec numpy\n",
        "# Supposons que la colonne des montants est la 5e (index 4)\n",
        "# On ignore la première ligne (en-têtes) avec skip_header=1\n",
        "donnees = np.genfromtxt(fichier, delimiter=',', skip_header=1, usecols=4)\n",
        "\n",
        "# Fermeture du fichier\n",
        "fichier.close()\n",
        "# Moyenne\n",
        "moyenne = np.mean(donnees)\n",
        "\n",
        "# Médiane\n",
        "mediane = np.median(donnees)\n",
        "\n",
        "# Écart-type\n",
        "ecart_type = np.std(donnees)\n",
        "\n",
        "# Affichage\n",
        "print(\"Moyenne des prêts :\", moyenne)\n",
        "print(\"Médiane des prêts :\", mediane)\n",
        "print(\"Écart-type des prêts :\", ecart_type)\n",
        "\n"
      ]
    },
    {
      "cell_type": "code",
      "source": [
        "import numpy as np\n"
      ],
      "metadata": {
        "id": "02EAyoLXE8KZ"
      },
      "execution_count": 10,
      "outputs": []
    }
  ]
}