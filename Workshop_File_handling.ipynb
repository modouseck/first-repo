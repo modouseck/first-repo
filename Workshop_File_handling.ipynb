{
  "cells": [
    {
      "cell_type": "markdown",
      "metadata": {
        "id": "view-in-github",
        "colab_type": "text"
      },
      "source": [
        "<a href=\"https://colab.research.google.com/github/modouseck/first-repo/blob/main/Workshop_File_handling.ipynb\" target=\"_parent\"><img src=\"https://colab.research.google.com/assets/colab-badge.svg\" alt=\"Open In Colab\"/></a>"
      ]
    },
    {
      "cell_type": "markdown",
      "metadata": {
        "id": "OC_xKHLe7FNJ"
      },
      "source": [
        "---\n",
        "\n",
        "## File I/O with NumPy\n",
        "\n",
        "Once you are more comfortable with Python and NumPy arrays, it is highly likely that at some point you will have the need or desire to do one of the following:\n",
        "\n",
        "- Work with a preexisting dataset or matrix or save your results for future use\n",
        "- Export your results for publication or to share them with a friend or colleague"
      ]
    },
    {
      "cell_type": "markdown",
      "metadata": {
        "id": "lWEaWFBa7FNJ"
      },
      "source": [
        "---\n",
        "\n",
        "### Writing a NumPy Array to a File\n",
        "\n",
        "Let's say we have an array `a` that we would like to export to a file for some reason."
      ]
    },
    {
      "cell_type": "code",
      "source": [
        "import numpy as np"
      ],
      "metadata": {
        "id": "8uUoZyTluDI0"
      },
      "execution_count": null,
      "outputs": []
    },
    {
      "cell_type": "code",
      "execution_count": null,
      "metadata": {
        "id": "HKeIADle7FNJ"
      },
      "outputs": [],
      "source": [
        "a = np.random.random((5,5))"
      ]
    },
    {
      "cell_type": "code",
      "execution_count": null,
      "metadata": {
        "id": "-yfxdsR27FNJ",
        "colab": {
          "base_uri": "https://localhost:8080/"
        },
        "outputId": "5d6944fa-9238-4136-c4d1-18b57ba7fba9"
      },
      "outputs": [
        {
          "output_type": "stream",
          "name": "stdout",
          "text": [
            "[[0.62372319 0.64372406 0.84033869 0.78156386 0.92517313]\n",
            " [0.20593054 0.26040217 0.27569802 0.96550772 0.17126956]\n",
            " [0.90450099 0.29947368 0.30778193 0.74892675 0.68625247]\n",
            " [0.91097039 0.97825094 0.98221419 0.09753638 0.07094166]\n",
            " [0.06387507 0.27941961 0.0156213  0.97393562 0.60169168]]\n"
          ]
        }
      ],
      "source": [
        "print(a)"
      ]
    },
    {
      "cell_type": "markdown",
      "metadata": {
        "id": "9Dz1H3Se7FNK"
      },
      "source": [
        "One option would be to use `np.save()` which saves the array to a binary `.npy` file."
      ]
    },
    {
      "cell_type": "code",
      "execution_count": null,
      "metadata": {
        "id": "Qpe6HzAD7FNK"
      },
      "outputs": [],
      "source": [
        "np.save('array1', a)"
      ]
    },
    {
      "cell_type": "markdown",
      "metadata": {
        "id": "I0kohoEB7FNK"
      },
      "source": [
        "Now when you open the **File Browser** from the left-hand menu, you should now see `array1.npy` along with some other files.\n",
        "\n",
        "If you **downloaded** this notebook and are running it on a local instance of Jupyter, the `array1.npy` file is now saved into the same folder containing this notebook. You can use your system file browser (*Explorer* or *Finder*) to locate the file and take a look.\n",
        "\n",
        "If you are running this notebook using **Binder** or **Google Colab**, the `array1.npy` file is temporarily stored on the server running the notebook. You can view the file *only* using the built-in file browser accessible via the left-hand menu. Also note that this file along with any other files you might create will be deleted from the server after you close the notebook. You can download any files you would like to save on your computer by *right-clicking* on the file in the left-hand browser and then selecting *Download*.\n",
        "\n",
        "Note that if you try opening `array1.npy`, it will not work. That is because the file is in **binary** format, meaning it is not human-readable and can only be deciphered by NumPy. Saving NumPy arrays in binary format is a good option if you care about speed and efficiency and are only planning on using NumPy to work with the data.\n",
        "\n",
        "However, in many cases you might actually want to be able to see the contents of the file and use it with other programs like MATLAB. In that case, it makes much more sense to save the NumPy array as a human-readable text file. This can be done using `np.savetxt()`."
      ]
    },
    {
      "cell_type": "code",
      "execution_count": null,
      "metadata": {
        "id": "Jg7hbaAt7FNL"
      },
      "outputs": [],
      "source": [
        "np.savetxt('array2.txt', a)"
      ]
    },
    {
      "cell_type": "markdown",
      "metadata": {
        "id": "zDkivRd27FNL"
      },
      "source": [
        "Because `array2.txt` is a human-readable text file, you can take a look at it by opening it with a text editor or *double-clicking* on it in the built-in file explorer on the left. Note how by default, the values are separated by spaces and the numbers are formatted using scientific notation.\n",
        "\n",
        "To change the separator between the array items in the outputted text file, we can use the `delimiter` argument. For example, to produce a **CSV** (Comma-Separated Values) file, we can specify `delimiter = \",\"`.\n",
        "\n"
      ]
    },
    {
      "cell_type": "code",
      "execution_count": null,
      "metadata": {
        "id": "StDBkDg77FNM"
      },
      "outputs": [],
      "source": [
        "np.savetxt('array3.csv', a, delimiter=',')"
      ]
    },
    {
      "cell_type": "markdown",
      "metadata": {
        "id": "cV3jQOMc7FNM"
      },
      "source": [
        "Now take a look at `array3.csv` and see how setting the delimiter have changed the appearance of the output."
      ]
    },
    {
      "cell_type": "markdown",
      "metadata": {
        "id": "JpPJU1rA7FNM"
      },
      "source": [
        "---\n",
        "\n",
        "### Reading a NumPy Array from a File\n",
        "\n",
        "To read a binary `.npy` file into a NumPy array, we can use `np.load()`."
      ]
    },
    {
      "cell_type": "code",
      "execution_count": null,
      "metadata": {
        "id": "dnZE7DQC7FNM"
      },
      "outputs": [],
      "source": [
        "b = np.load('array1.npy')"
      ]
    },
    {
      "cell_type": "code",
      "execution_count": null,
      "metadata": {
        "id": "N2r08GBI7FNM",
        "colab": {
          "base_uri": "https://localhost:8080/"
        },
        "outputId": "49255ee4-c616-4ded-9dff-0db3b333eec9"
      },
      "outputs": [
        {
          "output_type": "execute_result",
          "data": {
            "text/plain": [
              "array([[0.62372319, 0.64372406, 0.84033869, 0.78156386, 0.92517313],\n",
              "       [0.20593054, 0.26040217, 0.27569802, 0.96550772, 0.17126956],\n",
              "       [0.90450099, 0.29947368, 0.30778193, 0.74892675, 0.68625247],\n",
              "       [0.91097039, 0.97825094, 0.98221419, 0.09753638, 0.07094166],\n",
              "       [0.06387507, 0.27941961, 0.0156213 , 0.97393562, 0.60169168]])"
            ]
          },
          "metadata": {},
          "execution_count": 54
        }
      ],
      "source": [
        "b"
      ]
    },
    {
      "cell_type": "markdown",
      "metadata": {
        "id": "dJYFSAsX7FNN"
      },
      "source": [
        "To read data from a text file into a NumPy array, we can use either `np.loadtxt()` or `np.genfromtxt()`.\n",
        "\n",
        "- `np.loadtxt()` is an older function and provides very basic functionality\n",
        "- `np.genfromtxt()` is a newer and **faster** faster function that is more customizable and can handle missing values\n",
        "\n",
        "Hence it is recommended you use `np.genfromtxt()` as a default. When using either function, you have to specify the `delimiter` argument if using anything other than whitespace.\n",
        "\n"
      ]
    },
    {
      "cell_type": "code",
      "execution_count": null,
      "metadata": {
        "id": "s6yOT69O7FNO"
      },
      "outputs": [],
      "source": [
        "c = np.loadtxt('array2.txt')"
      ]
    },
    {
      "cell_type": "code",
      "execution_count": null,
      "metadata": {
        "id": "wcIw534G7FNO",
        "colab": {
          "base_uri": "https://localhost:8080/"
        },
        "outputId": "8a8dfefb-50c0-4b12-e7ed-627682b7569d"
      },
      "outputs": [
        {
          "output_type": "execute_result",
          "data": {
            "text/plain": [
              "array([[0.62372319, 0.64372406, 0.84033869, 0.78156386, 0.92517313],\n",
              "       [0.20593054, 0.26040217, 0.27569802, 0.96550772, 0.17126956],\n",
              "       [0.90450099, 0.29947368, 0.30778193, 0.74892675, 0.68625247],\n",
              "       [0.91097039, 0.97825094, 0.98221419, 0.09753638, 0.07094166],\n",
              "       [0.06387507, 0.27941961, 0.0156213 , 0.97393562, 0.60169168]])"
            ]
          },
          "metadata": {},
          "execution_count": 56
        }
      ],
      "source": [
        "c"
      ]
    },
    {
      "cell_type": "code",
      "execution_count": null,
      "metadata": {
        "id": "i0T49Cur7FNP"
      },
      "outputs": [],
      "source": [
        "d = np.genfromtxt('array3.csv', delimiter=',')"
      ]
    },
    {
      "cell_type": "code",
      "execution_count": null,
      "metadata": {
        "id": "ADc5b5Oi7FNP",
        "colab": {
          "base_uri": "https://localhost:8080/"
        },
        "outputId": "8e338bbf-da32-457b-bb2e-cafcbb47525d"
      },
      "outputs": [
        {
          "output_type": "execute_result",
          "data": {
            "text/plain": [
              "array([[0.62372319, 0.64372406, 0.84033869, 0.78156386, 0.92517313],\n",
              "       [0.20593054, 0.26040217, 0.27569802, 0.96550772, 0.17126956],\n",
              "       [0.90450099, 0.29947368, 0.30778193, 0.74892675, 0.68625247],\n",
              "       [0.91097039, 0.97825094, 0.98221419, 0.09753638, 0.07094166],\n",
              "       [0.06387507, 0.27941961, 0.0156213 , 0.97393562, 0.60169168]])"
            ]
          },
          "metadata": {},
          "execution_count": 58
        }
      ],
      "source": [
        "d"
      ]
    },
    {
      "cell_type": "markdown",
      "metadata": {
        "id": "aESKxHvh7FNP"
      },
      "source": [
        "An important thing to note when saving floating-point arrays to text files is ***loss of significance***. Because we can only store a set number of significant digits in the text file, it is possible that the number of significant digits will be reduced when writing data to a file, introducing round-off errors and causing precision loss.\n",
        "\n",
        "Note that this is not the case when using the binary `.npy` format."
      ]
    },
    {
      "cell_type": "code",
      "execution_count": null,
      "metadata": {
        "id": "Bn6sGx2l7FNP",
        "colab": {
          "base_uri": "https://localhost:8080/"
        },
        "outputId": "0942a1d6-109e-4ef9-d130-2f1cdbe10c2e"
      },
      "outputs": [
        {
          "output_type": "execute_result",
          "data": {
            "text/plain": [
              "array([[ True,  True,  True,  True,  True],\n",
              "       [ True,  True,  True,  True,  True],\n",
              "       [ True,  True,  True,  True,  True],\n",
              "       [ True,  True,  True,  True,  True],\n",
              "       [ True,  True,  True,  True,  True]])"
            ]
          },
          "metadata": {},
          "execution_count": 59
        }
      ],
      "source": [
        "a == b"
      ]
    },
    {
      "cell_type": "markdown",
      "metadata": {
        "id": "24ZV-o7j7FNQ"
      },
      "source": [
        "When writing to a text file using the default setting of scientific notation with 16 significant digits, precision loss does not occur under normal circumstances. However, note that this is dependent on the *datatype* of your array."
      ]
    },
    {
      "cell_type": "markdown",
      "metadata": {
        "id": "OHeHiZC17FNQ"
      },
      "source": [
        "---\n",
        "\n",
        "### Advanced: File I/O With Python\n",
        "\n",
        "But what exactly happens when we use `np.genfromtxt()` to read data from a file? We can get a high-level overview of the mechanisms that take place in the background when we try to recreate the functionality using standard Python.\n",
        "\n",
        "First, we have to open the file in order to be able to read data from it."
      ]
    },
    {
      "cell_type": "code",
      "execution_count": null,
      "metadata": {
        "id": "9zV0Zqol7FNQ"
      },
      "outputs": [],
      "source": [
        "file = open('array3.csv')"
      ]
    },
    {
      "cell_type": "markdown",
      "metadata": {
        "id": "rE46ToUS7FNR"
      },
      "source": [
        "Now we have  **file object** called `file` that gives us access to `array3.csv`. Using `.readlines()` with a file object, we can read all the lines from a file into a list."
      ]
    },
    {
      "cell_type": "code",
      "execution_count": null,
      "metadata": {
        "id": "-UUThTck7FNR"
      },
      "outputs": [],
      "source": [
        "lines = file.readlines()"
      ]
    },
    {
      "cell_type": "code",
      "execution_count": null,
      "metadata": {
        "id": "dUwl9cGz7FNR",
        "colab": {
          "base_uri": "https://localhost:8080/"
        },
        "outputId": "e0e5345e-1c6d-4c80-d1d8-e0f5e570290e"
      },
      "outputs": [
        {
          "output_type": "execute_result",
          "data": {
            "text/plain": [
              "['6.237231918648519224e-01,6.437240634816261409e-01,8.403386867865210164e-01,7.815638583940204276e-01,9.251731338779494163e-01\\n',\n",
              " '2.059305424121925521e-01,2.604021728216241449e-01,2.756980151420885816e-01,9.655077170546886300e-01,1.712695565775376183e-01\\n',\n",
              " '9.045009869690763260e-01,2.994736781812755710e-01,3.077819344613993424e-01,7.489267526670634334e-01,6.862524720236342635e-01\\n',\n",
              " '9.109703911404098964e-01,9.782509379064019406e-01,9.822141916960781538e-01,9.753637709497453567e-02,7.094166292186709910e-02\\n',\n",
              " '6.387507415508975050e-02,2.794196053372264288e-01,1.562129838304104901e-02,9.739356195997656007e-01,6.016916803512697420e-01\\n']"
            ]
          },
          "metadata": {},
          "execution_count": 62
        }
      ],
      "source": [
        "lines"
      ]
    },
    {
      "cell_type": "markdown",
      "metadata": {
        "id": "FyfFPROc7FNS"
      },
      "source": [
        "Now we have a list called `lines`, where each element is a line from the file `array3.csv`. Note that some cleaning needs to be done as these lines still contain whitespace characters like newlines."
      ]
    },
    {
      "cell_type": "code",
      "execution_count": null,
      "metadata": {
        "id": "3RoUn_Gu7FNS"
      },
      "outputs": [],
      "source": [
        "cleaned_lines = []\n",
        "for line in lines:\n",
        "    line = line.strip()\n",
        "    cleaned_lines.append(line)"
      ]
    },
    {
      "cell_type": "code",
      "execution_count": null,
      "metadata": {
        "id": "bie25d2u7FNS",
        "colab": {
          "base_uri": "https://localhost:8080/"
        },
        "outputId": "3084cc05-5114-4011-b007-82edd301a3d3"
      },
      "outputs": [
        {
          "output_type": "execute_result",
          "data": {
            "text/plain": [
              "['6.237231918648519224e-01,6.437240634816261409e-01,8.403386867865210164e-01,7.815638583940204276e-01,9.251731338779494163e-01',\n",
              " '2.059305424121925521e-01,2.604021728216241449e-01,2.756980151420885816e-01,9.655077170546886300e-01,1.712695565775376183e-01',\n",
              " '9.045009869690763260e-01,2.994736781812755710e-01,3.077819344613993424e-01,7.489267526670634334e-01,6.862524720236342635e-01',\n",
              " '9.109703911404098964e-01,9.782509379064019406e-01,9.822141916960781538e-01,9.753637709497453567e-02,7.094166292186709910e-02',\n",
              " '6.387507415508975050e-02,2.794196053372264288e-01,1.562129838304104901e-02,9.739356195997656007e-01,6.016916803512697420e-01']"
            ]
          },
          "metadata": {},
          "execution_count": 64
        }
      ],
      "source": [
        "cleaned_lines"
      ]
    },
    {
      "cell_type": "markdown",
      "metadata": {
        "id": "sqZwrzMH7FNT"
      },
      "source": [
        "The next step would be to convert each line to a list by splitting the string on the separator. This will lead to a list of lists, which is already quite similar to a two-dimensional NumPy array."
      ]
    },
    {
      "cell_type": "code",
      "execution_count": null,
      "metadata": {
        "id": "5_fHN7gJ7FNT"
      },
      "outputs": [],
      "source": [
        "lists = []\n",
        "for line in cleaned_lines:\n",
        "    lst = line.split(',')\n",
        "    lists.append(lst)"
      ]
    },
    {
      "cell_type": "code",
      "execution_count": null,
      "metadata": {
        "id": "dqyZ5R5t7FNU",
        "colab": {
          "base_uri": "https://localhost:8080/"
        },
        "outputId": "c5439327-9126-4a62-c703-edf83ea23149"
      },
      "outputs": [
        {
          "output_type": "execute_result",
          "data": {
            "text/plain": [
              "[['6.237231918648519224e-01',\n",
              "  '6.437240634816261409e-01',\n",
              "  '8.403386867865210164e-01',\n",
              "  '7.815638583940204276e-01',\n",
              "  '9.251731338779494163e-01'],\n",
              " ['2.059305424121925521e-01',\n",
              "  '2.604021728216241449e-01',\n",
              "  '2.756980151420885816e-01',\n",
              "  '9.655077170546886300e-01',\n",
              "  '1.712695565775376183e-01'],\n",
              " ['9.045009869690763260e-01',\n",
              "  '2.994736781812755710e-01',\n",
              "  '3.077819344613993424e-01',\n",
              "  '7.489267526670634334e-01',\n",
              "  '6.862524720236342635e-01'],\n",
              " ['9.109703911404098964e-01',\n",
              "  '9.782509379064019406e-01',\n",
              "  '9.822141916960781538e-01',\n",
              "  '9.753637709497453567e-02',\n",
              "  '7.094166292186709910e-02'],\n",
              " ['6.387507415508975050e-02',\n",
              "  '2.794196053372264288e-01',\n",
              "  '1.562129838304104901e-02',\n",
              "  '9.739356195997656007e-01',\n",
              "  '6.016916803512697420e-01']]"
            ]
          },
          "metadata": {},
          "execution_count": 66
        }
      ],
      "source": [
        "lists"
      ]
    },
    {
      "cell_type": "markdown",
      "metadata": {
        "id": "iDPkJdIj7FNV"
      },
      "source": [
        "Note how all the elements still have the type of `str`, meaning they are text, not numbers. Luckily there is an easy fix for that."
      ]
    },
    {
      "cell_type": "code",
      "execution_count": null,
      "metadata": {
        "id": "4fI-uCUq7FNV",
        "colab": {
          "base_uri": "https://localhost:8080/"
        },
        "outputId": "ff9cb484-ab32-45ac-a6f8-b591b666c1f1"
      },
      "outputs": [
        {
          "output_type": "execute_result",
          "data": {
            "text/plain": [
              "str"
            ]
          },
          "metadata": {},
          "execution_count": 67
        }
      ],
      "source": [
        "type(lists[0][0])"
      ]
    },
    {
      "cell_type": "code",
      "execution_count": null,
      "metadata": {
        "id": "pudvtUfh7FNW"
      },
      "outputs": [],
      "source": [
        "float_lists = []\n",
        "for lst in lists:\n",
        "    flst = []\n",
        "    for element in lst:\n",
        "        element = float(element)\n",
        "        flst.append(element)\n",
        "    float_lists.append(flst)"
      ]
    },
    {
      "cell_type": "code",
      "execution_count": null,
      "metadata": {
        "id": "1EWKI04J7FNW",
        "colab": {
          "base_uri": "https://localhost:8080/"
        },
        "outputId": "66068176-22a7-4a82-ae19-0dbc4e132467"
      },
      "outputs": [
        {
          "output_type": "execute_result",
          "data": {
            "text/plain": [
              "[[0.6237231918648519,\n",
              "  0.6437240634816261,\n",
              "  0.840338686786521,\n",
              "  0.7815638583940204,\n",
              "  0.9251731338779494],\n",
              " [0.20593054241219255,\n",
              "  0.26040217282162414,\n",
              "  0.2756980151420886,\n",
              "  0.9655077170546886,\n",
              "  0.17126955657753762],\n",
              " [0.9045009869690763,\n",
              "  0.29947367818127557,\n",
              "  0.30778193446139934,\n",
              "  0.7489267526670634,\n",
              "  0.6862524720236343],\n",
              " [0.9109703911404099,\n",
              "  0.9782509379064019,\n",
              "  0.9822141916960782,\n",
              "  0.09753637709497454,\n",
              "  0.0709416629218671],\n",
              " [0.06387507415508975,\n",
              "  0.27941960533722643,\n",
              "  0.015621298383041049,\n",
              "  0.9739356195997656,\n",
              "  0.6016916803512697]]"
            ]
          },
          "metadata": {},
          "execution_count": 69
        }
      ],
      "source": [
        "float_lists"
      ]
    },
    {
      "cell_type": "code",
      "execution_count": null,
      "metadata": {
        "id": "xFrJKMOU7FNX",
        "colab": {
          "base_uri": "https://localhost:8080/"
        },
        "outputId": "42339be7-7f74-4d04-a992-46164a78e930"
      },
      "outputs": [
        {
          "output_type": "execute_result",
          "data": {
            "text/plain": [
              "float"
            ]
          },
          "metadata": {},
          "execution_count": 70
        }
      ],
      "source": [
        "type(float_lists[0][0])"
      ]
    },
    {
      "cell_type": "markdown",
      "metadata": {
        "id": "Q6ufpbht7FNX"
      },
      "source": [
        "Now we can use this list of lists to create a NumPy array."
      ]
    },
    {
      "cell_type": "code",
      "execution_count": null,
      "metadata": {
        "id": "H5ctyyJD7FNY"
      },
      "outputs": [],
      "source": [
        "e = np.array(float_lists)"
      ]
    },
    {
      "cell_type": "code",
      "execution_count": null,
      "metadata": {
        "id": "uhaI_sWJ7FNY",
        "colab": {
          "base_uri": "https://localhost:8080/"
        },
        "outputId": "01541a80-4168-4fe8-e36d-5fb0de9b7ad1"
      },
      "outputs": [
        {
          "output_type": "execute_result",
          "data": {
            "text/plain": [
              "array([[0.62372319, 0.64372406, 0.84033869, 0.78156386, 0.92517313],\n",
              "       [0.20593054, 0.26040217, 0.27569802, 0.96550772, 0.17126956],\n",
              "       [0.90450099, 0.29947368, 0.30778193, 0.74892675, 0.68625247],\n",
              "       [0.91097039, 0.97825094, 0.98221419, 0.09753638, 0.07094166],\n",
              "       [0.06387507, 0.27941961, 0.0156213 , 0.97393562, 0.60169168]])"
            ]
          },
          "metadata": {},
          "execution_count": 72
        }
      ],
      "source": [
        "e"
      ]
    },
    {
      "cell_type": "markdown",
      "metadata": {
        "id": "xpi17Jkt7FNZ"
      },
      "source": [
        "We can confirm that we got the same result as we would have gotten using `np.genfromtxt()` by comparing it to the array `d` from before."
      ]
    },
    {
      "cell_type": "code",
      "execution_count": null,
      "metadata": {
        "id": "tb57t8f07FNZ",
        "colab": {
          "base_uri": "https://localhost:8080/"
        },
        "outputId": "9fd9a201-7136-4ca1-aac8-44ba9c0014a7"
      },
      "outputs": [
        {
          "output_type": "execute_result",
          "data": {
            "text/plain": [
              "array([[ True,  True,  True,  True,  True],\n",
              "       [ True,  True,  True,  True,  True],\n",
              "       [ True,  True,  True,  True,  True],\n",
              "       [ True,  True,  True,  True,  True],\n",
              "       [ True,  True,  True,  True,  True]])"
            ]
          },
          "metadata": {},
          "execution_count": 73
        }
      ],
      "source": [
        "e == d"
      ]
    },
    {
      "cell_type": "markdown",
      "metadata": {
        "id": "xgKmZ1am7FNZ"
      },
      "source": [
        "Finally we have to remember to close the file. This is very important to avoid any potential file corruption."
      ]
    },
    {
      "cell_type": "code",
      "execution_count": null,
      "metadata": {
        "id": "PiD-MpNP7FNa"
      },
      "outputs": [],
      "source": [
        "file.close()"
      ]
    },
    {
      "cell_type": "markdown",
      "metadata": {
        "id": "kS-i2ZnO7FNa"
      },
      "source": [
        "Forgetting to close the file could lead to various issues and have serious consequences. Hence, it is commonplace to use `open()` in conjunction with a `with`statement. Any code executed within the block defined by the `with` statement has access to the file and any code outside of the block does not. This reduces the potential for errors and does not require you to use manually close the connection to the file.\n",
        "\n",
        "Also note how our previous processing involved looping over basically the same list numerous times. We can simplify this a little by looping over indices instead."
      ]
    },
    {
      "cell_type": "code",
      "execution_count": null,
      "metadata": {
        "id": "MOPELrcq7FNa"
      },
      "outputs": [],
      "source": [
        "with open('array3.csv') as f:\n",
        "    lines = f.readlines()"
      ]
    },
    {
      "cell_type": "code",
      "execution_count": null,
      "metadata": {
        "id": "o9Jpj2wt7FNb",
        "colab": {
          "base_uri": "https://localhost:8080/"
        },
        "outputId": "0699bc46-1278-4d51-df06-898e285587b3"
      },
      "outputs": [
        {
          "output_type": "execute_result",
          "data": {
            "text/plain": [
              "['6.237231918648519224e-01,6.437240634816261409e-01,8.403386867865210164e-01,7.815638583940204276e-01,9.251731338779494163e-01\\n',\n",
              " '2.059305424121925521e-01,2.604021728216241449e-01,2.756980151420885816e-01,9.655077170546886300e-01,1.712695565775376183e-01\\n',\n",
              " '9.045009869690763260e-01,2.994736781812755710e-01,3.077819344613993424e-01,7.489267526670634334e-01,6.862524720236342635e-01\\n',\n",
              " '9.109703911404098964e-01,9.782509379064019406e-01,9.822141916960781538e-01,9.753637709497453567e-02,7.094166292186709910e-02\\n',\n",
              " '6.387507415508975050e-02,2.794196053372264288e-01,1.562129838304104901e-02,9.739356195997656007e-01,6.016916803512697420e-01\\n']"
            ]
          },
          "metadata": {},
          "execution_count": 76
        }
      ],
      "source": [
        "lines"
      ]
    },
    {
      "cell_type": "code",
      "execution_count": null,
      "metadata": {
        "id": "PtgxZOho7FNb"
      },
      "outputs": [],
      "source": [
        "for i in range(len(lines)):\n",
        "    lines[i] = lines[i].strip().split(',')\n",
        "    for j in range(len(lines[i])):\n",
        "        lines[i][j] = float(lines[i][j])"
      ]
    },
    {
      "cell_type": "code",
      "execution_count": null,
      "metadata": {
        "id": "x2coclBN7FNb",
        "colab": {
          "base_uri": "https://localhost:8080/"
        },
        "outputId": "cf07cc20-d892-47bf-bfa3-d68a6f19df86"
      },
      "outputs": [
        {
          "output_type": "execute_result",
          "data": {
            "text/plain": [
              "[[0.6237231918648519,\n",
              "  0.6437240634816261,\n",
              "  0.840338686786521,\n",
              "  0.7815638583940204,\n",
              "  0.9251731338779494],\n",
              " [0.20593054241219255,\n",
              "  0.26040217282162414,\n",
              "  0.2756980151420886,\n",
              "  0.9655077170546886,\n",
              "  0.17126955657753762],\n",
              " [0.9045009869690763,\n",
              "  0.29947367818127557,\n",
              "  0.30778193446139934,\n",
              "  0.7489267526670634,\n",
              "  0.6862524720236343],\n",
              " [0.9109703911404099,\n",
              "  0.9782509379064019,\n",
              "  0.9822141916960782,\n",
              "  0.09753637709497454,\n",
              "  0.0709416629218671],\n",
              " [0.06387507415508975,\n",
              "  0.27941960533722643,\n",
              "  0.015621298383041049,\n",
              "  0.9739356195997656,\n",
              "  0.6016916803512697]]"
            ]
          },
          "metadata": {},
          "execution_count": 78
        }
      ],
      "source": [
        "lines"
      ]
    },
    {
      "cell_type": "code",
      "execution_count": null,
      "metadata": {
        "id": "yDmzlhEZ7FNb"
      },
      "outputs": [],
      "source": [
        "arr = np.array(lines)"
      ]
    },
    {
      "cell_type": "code",
      "execution_count": null,
      "metadata": {
        "id": "Y1KSlSPn7FNc",
        "colab": {
          "base_uri": "https://localhost:8080/"
        },
        "outputId": "039a42bd-65eb-4c96-e674-571342a51789"
      },
      "outputs": [
        {
          "output_type": "execute_result",
          "data": {
            "text/plain": [
              "array([[0.62372319, 0.64372406, 0.84033869, 0.78156386, 0.92517313],\n",
              "       [0.20593054, 0.26040217, 0.27569802, 0.96550772, 0.17126956],\n",
              "       [0.90450099, 0.29947368, 0.30778193, 0.74892675, 0.68625247],\n",
              "       [0.91097039, 0.97825094, 0.98221419, 0.09753638, 0.07094166],\n",
              "       [0.06387507, 0.27941961, 0.0156213 , 0.97393562, 0.60169168]])"
            ]
          },
          "metadata": {},
          "execution_count": 80
        }
      ],
      "source": [
        "arr"
      ]
    },
    {
      "cell_type": "markdown",
      "metadata": {
        "id": "v87A1tgu7FNc"
      },
      "source": [
        "We can confirm that the result is indeed the same as before."
      ]
    },
    {
      "cell_type": "code",
      "execution_count": null,
      "metadata": {
        "id": "lUjCI1nS7FNc",
        "colab": {
          "base_uri": "https://localhost:8080/"
        },
        "outputId": "8132173e-3d27-4ceb-d88f-5001caf5db39"
      },
      "outputs": [
        {
          "output_type": "execute_result",
          "data": {
            "text/plain": [
              "array([[ True,  True,  True,  True,  True],\n",
              "       [ True,  True,  True,  True,  True],\n",
              "       [ True,  True,  True,  True,  True],\n",
              "       [ True,  True,  True,  True,  True],\n",
              "       [ True,  True,  True,  True,  True]])"
            ]
          },
          "metadata": {},
          "execution_count": 81
        }
      ],
      "source": [
        "arr == e"
      ]
    },
    {
      "cell_type": "markdown",
      "metadata": {
        "id": "bNI2d3dr7FNc"
      },
      "source": [
        "Note that you can condense this even more by using `map()` with `lambda` and remembering that `np.array()` has a `dtype` argument."
      ]
    },
    {
      "cell_type": "code",
      "execution_count": null,
      "metadata": {
        "id": "khPmio5I7FNd"
      },
      "outputs": [],
      "source": [
        "with open('array3.csv') as f:\n",
        "    arr2 = np.array(list(map(lambda x : x.strip().split(','), f.readlines())), dtype=float)"
      ]
    },
    {
      "cell_type": "code",
      "execution_count": null,
      "metadata": {
        "id": "dpQJW_vX7FNd",
        "colab": {
          "base_uri": "https://localhost:8080/"
        },
        "outputId": "9cbeec97-567d-4236-ae77-c8d24ea9dbba"
      },
      "outputs": [
        {
          "output_type": "execute_result",
          "data": {
            "text/plain": [
              "array([[0.62372319, 0.64372406, 0.84033869, 0.78156386, 0.92517313],\n",
              "       [0.20593054, 0.26040217, 0.27569802, 0.96550772, 0.17126956],\n",
              "       [0.90450099, 0.29947368, 0.30778193, 0.74892675, 0.68625247],\n",
              "       [0.91097039, 0.97825094, 0.98221419, 0.09753638, 0.07094166],\n",
              "       [0.06387507, 0.27941961, 0.0156213 , 0.97393562, 0.60169168]])"
            ]
          },
          "metadata": {},
          "execution_count": 83
        }
      ],
      "source": [
        "arr2"
      ]
    },
    {
      "cell_type": "code",
      "execution_count": null,
      "metadata": {
        "id": "cg6OOcHx7FNd",
        "colab": {
          "base_uri": "https://localhost:8080/"
        },
        "outputId": "86898646-dc12-475a-a373-74aa4f96d662"
      },
      "outputs": [
        {
          "output_type": "execute_result",
          "data": {
            "text/plain": [
              "array([[ True,  True,  True,  True,  True],\n",
              "       [ True,  True,  True,  True,  True],\n",
              "       [ True,  True,  True,  True,  True],\n",
              "       [ True,  True,  True,  True,  True],\n",
              "       [ True,  True,  True,  True,  True]])"
            ]
          },
          "metadata": {},
          "execution_count": 84
        }
      ],
      "source": [
        "arr == arr2"
      ]
    }
  ],
  "metadata": {
    "kernelspec": {
      "display_name": "Python 3 (ipykernel)",
      "language": "python",
      "name": "python3"
    },
    "language_info": {
      "codemirror_mode": {
        "name": "ipython",
        "version": 3
      },
      "file_extension": ".py",
      "mimetype": "text/x-python",
      "name": "python",
      "nbconvert_exporter": "python",
      "pygments_lexer": "ipython3",
      "version": "3.9.7"
    },
    "toc-autonumbering": false,
    "colab": {
      "provenance": [],
      "include_colab_link": true
    }
  },
  "nbformat": 4,
  "nbformat_minor": 0
}