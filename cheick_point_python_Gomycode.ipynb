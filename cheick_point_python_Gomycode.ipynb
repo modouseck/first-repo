{
  "nbformat": 4,
  "nbformat_minor": 0,
  "metadata": {
    "colab": {
      "provenance": [],
      "authorship_tag": "ABX9TyMLwwW/IrafnuM3l1nkIJrX",
      "include_colab_link": true
    },
    "kernelspec": {
      "name": "python3",
      "display_name": "Python 3"
    },
    "language_info": {
      "name": "python"
    }
  },
  "cells": [
    {
      "cell_type": "markdown",
      "metadata": {
        "id": "view-in-github",
        "colab_type": "text"
      },
      "source": [
        "<a href=\"https://colab.research.google.com/github/modouseck/first-repo/blob/main/cheick_point_python_Gomycode.ipynb\" target=\"_parent\"><img src=\"https://colab.research.google.com/assets/colab-badge.svg\" alt=\"Open In Colab\"/></a>"
      ]
    },
    {
      "cell_type": "code",
      "execution_count": null,
      "metadata": {
        "id": "JOnBRVpCByAo"
      },
      "outputs": [],
      "source": [
        "def calculatrice(num1, num2):\n",
        "    operateur = input(\"Entrez l'opérateur (+, -, *, /) : \")\n",
        "\n",
        "    if operateur == '+':\n",
        "        return num1 + num2\n",
        "    elif operateur == '-':\n",
        "        return num1 - num2\n",
        "    elif operateur == '*':\n",
        "        return num1 * num2\n",
        "    elif operateur == '/':\n",
        "        if num2 == 0:\n",
        "            return \"Erreur : Division par zéro !\"\n",
        "        return num1 / num2\n",
        "    else:\n",
        "        return \"Opérateur invalide ! Veuillez entrer +, -, *, ou /\"\n",
        "\n",
        "# Boucle pour permettre plusieurs calculs\n",
        "while True:\n",
        "    try:\n",
        "        a = float(input(\"Entrez le premier nombre : \"))\n",
        "        b = float(input(\"Entrez le deuxième nombre : \"))\n",
        "        resultat = calculatrice(a, b)\n",
        "        print(\"Le résultat est :\", resultat)\n",
        "    except ValueError:\n",
        "        print(\"Entrée invalide ! Veuillez entrer un nombre.\")\n",
        "\n",
        "    continuer = input(\"Voulez-vous faire un autre calcul ? (o/n) : \").lower()\n",
        "    if continuer != 'o':\n",
        "        print(\"Merci d'avoir utilisé la calculatrice. À bientôt !\")\n",
        "        break\n"
      ]
    }
  ]
}