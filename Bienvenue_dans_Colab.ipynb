{
  "cells": [
    {
      "cell_type": "markdown",
      "metadata": {
        "id": "view-in-github",
        "colab_type": "text"
      },
      "source": [
        "<a href=\"https://colab.research.google.com/github/modouseck/first-repo/blob/main/Bienvenue_dans_Colab.ipynb\" target=\"_parent\"><img src=\"https://colab.research.google.com/assets/colab-badge.svg\" alt=\"Open In Colab\"/></a>"
      ]
    },
    {
      "cell_type": "code",
      "source": [
        "def multiply_elements(lst):\n",
        "    result = 1\n",
        "    for num in lst:\n",
        "        result *= num\n",
        "    return result\n",
        "\n",
        "# Exemple\n",
        "example_list = [2, 3, 6]\n",
        "print(multiply_elements(example_list))  # Résultat : 36\n"
      ],
      "metadata": {
        "id": "zoN8mlw9JKph"
      },
      "execution_count": null,
      "outputs": []
    },
    {
      "cell_type": "code",
      "source": [
        "def sort_by_last_element(tuples):\n",
        "    return sorted(tuples, key=lambda x: x[-1])\n",
        "\n",
        "# Exemple\n",
        "example_list = [(2, 5), (1, 2), (4, 4), (2, 3), (2, 1)]\n",
        "print(sort_by_last_element(example_list))  # Résultat attendu : [(2, 1), (1, 2), (2, 3), (4, 4), (2, 5)]\n"
      ],
      "metadata": {
        "id": "0WXD3N0sJOm-"
      },
      "execution_count": null,
      "outputs": []
    },
    {
      "cell_type": "code",
      "source": [
        "def combine_dicts(d1, d2):\n",
        "    result = d1.copy()  # Copie du premier dictionnaire pour ne pas modifier l'original\n",
        "    for key, value in d2.items():\n",
        "        if key in result:\n",
        "            result[key] += value  # Ajoute la valeur si la clé existe déjà\n",
        "        else:\n",
        "            result[key] = value  # Sinon, ajoute une nouvelle clé avec sa valeur\n",
        "    return result\n",
        "\n",
        "# Exemple\n",
        "d1 = {'a' : 100, 'b' : 200, 'c':300}\n",
        "d2 = {'a' : 300, 'b' : 200, 'd':400}\n",
        "print(combine_dicts(d1, d2))  # Résultat attendu: {'a': 400, 'b': 400, 'c': 300, 'd': 400}\n"
      ],
      "metadata": {
        "id": "sJyq_k6CJSF7"
      },
      "execution_count": null,
      "outputs": []
    },
    {
      "cell_type": "code",
      "source": [
        "def generate_square_dict(n):\n",
        "    return {i: i*i for i in range(1, n+1)}\n",
        "\n",
        "# Exemple\n",
        "n = 8\n",
        "print(generate_square_dict(n))  # Résultat attendu : {1: 1, 2: 4, 3: 9, 4: 16, 5: 25, 6: 36, 7: 49, 8: 64}\n"
      ],
      "metadata": {
        "id": "hnuZJJWLJVj2"
      },
      "execution_count": null,
      "outputs": []
    },
    {
      "cell_type": "code",
      "source": [
        "def sort_by_float(tuples):\n",
        "    return sorted(tuples, key=lambda x: float(x[1]))\n",
        "\n",
        "# Exemple\n",
        "example_list = [('item1', '12.20'), ('item2', '15.10'), ('item3', '24.5')]\n",
        "print(sort_by_float(example_list))  # Résultat attendu: [('item3', '24.5'), ('item2', '15.10'), ('item1', '12.20')]\n"
      ],
      "metadata": {
        "id": "DhnthvyKJZie"
      },
      "execution_count": null,
      "outputs": []
    },
    {
      "cell_type": "code",
      "source": [
        "# Créer un ensemble\n",
        "my_set = {0, 1, 2, 3, 4}\n",
        "print(my_set)  # Exemple : {0, 1, 2, 3, 4}\n",
        "\n",
        "# Itérer sur un ensemble\n",
        "for element in my_set:\n",
        "    print(element)\n",
        "\n",
        "# Ajouter des membres dans un ensemble\n",
        "my_set.add(5)\n",
        "print(my_set)  # Résultat : {0, 1, 2, 3, 4, 5}\n",
        "\n",
        "# Retirer des éléments d'un ensemble\n",
        "my_set.remove(3)\n",
        "print(my_set)  # Résultat : {0, 1, 2, 4, 5}\n"
      ],
      "metadata": {
        "id": "1ii56lUVJcQZ"
      },
      "execution_count": null,
      "outputs": []
    }
  ],
  "metadata": {
    "colab": {
      "name": "Bienvenue dans Colab",
      "provenance": [],
      "include_colab_link": true
    },
    "kernelspec": {
      "display_name": "Python 3",
      "name": "python3"
    }
  },
  "nbformat": 4,
  "nbformat_minor": 0
}